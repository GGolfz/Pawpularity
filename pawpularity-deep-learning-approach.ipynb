{
 "cells": [
  {
   "cell_type": "markdown",
   "id": "e2763737",
   "metadata": {
    "papermill": {
     "duration": 0.013057,
     "end_time": "2021-10-12T02:24:48.298598",
     "exception": false,
     "start_time": "2021-10-12T02:24:48.285541",
     "status": "completed"
    },
    "tags": []
   },
   "source": [
    "# Import Dependencies"
   ]
  },
  {
   "cell_type": "code",
   "execution_count": 1,
   "id": "943cef8b",
   "metadata": {
    "_cell_guid": "b1076dfc-b9ad-4769-8c92-a6c4dae69d19",
    "_uuid": "8f2839f25d086af736a60e9eeb907d3b93b6e0e5",
    "execution": {
     "iopub.execute_input": "2021-10-12T02:24:48.328556Z",
     "iopub.status.busy": "2021-10-12T02:24:48.326844Z",
     "iopub.status.idle": "2021-10-12T02:24:52.726653Z",
     "shell.execute_reply": "2021-10-12T02:24:52.725621Z",
     "shell.execute_reply.started": "2021-10-12T01:46:00.480934Z"
    },
    "papermill": {
     "duration": 4.415922,
     "end_time": "2021-10-12T02:24:52.726827",
     "exception": false,
     "start_time": "2021-10-12T02:24:48.310905",
     "status": "completed"
    },
    "tags": []
   },
   "outputs": [
    {
     "name": "stderr",
     "output_type": "stream",
     "text": [
      "2021-10-12 02:24:48.879336: I tensorflow/stream_executor/platform/default/dso_loader.cc:49] Successfully opened dynamic library libcudart.so.11.0\n"
     ]
    }
   ],
   "source": [
    "import numpy as np # linear algebra\n",
    "import pandas as pd # data processing, CSV file I/O (e.g. pd.read_csv)\n",
    "import os\n",
    "import tensorflow as tf\n",
    "import random\n",
    "from tensorflow.keras.preprocessing.image import ImageDataGenerator\n",
    "import matplotlib.pyplot as plt"
   ]
  },
  {
   "cell_type": "markdown",
   "id": "f3101d76",
   "metadata": {
    "papermill": {
     "duration": 0.012285,
     "end_time": "2021-10-12T02:24:52.752359",
     "exception": false,
     "start_time": "2021-10-12T02:24:52.740074",
     "status": "completed"
    },
    "tags": []
   },
   "source": [
    "# Initialize"
   ]
  },
  {
   "cell_type": "code",
   "execution_count": 2,
   "id": "1cd52215",
   "metadata": {
    "execution": {
     "iopub.execute_input": "2021-10-12T02:24:52.784199Z",
     "iopub.status.busy": "2021-10-12T02:24:52.783398Z",
     "iopub.status.idle": "2021-10-12T02:24:52.785120Z",
     "shell.execute_reply": "2021-10-12T02:24:52.785620Z",
     "shell.execute_reply.started": "2021-10-12T01:46:00.488874Z"
    },
    "papermill": {
     "duration": 0.020718,
     "end_time": "2021-10-12T02:24:52.785742",
     "exception": false,
     "start_time": "2021-10-12T02:24:52.765024",
     "status": "completed"
    },
    "tags": []
   },
   "outputs": [],
   "source": [
    "IMAGE_SIZE = 224\n",
    "BATCH_SIZE = 64\n",
    "CHANNEL = 3\n",
    "root_dir = \"/kaggle/input/petfinder-pawpularity-score/\"\n",
    "train_dir = root_dir + \"train/\"\n",
    "test_dir = root_dir + \"test/\"\n",
    "def seed_everything():\n",
    "    np.random.seed(42)\n",
    "    random.seed(42)\n",
    "    tf.random.set_seed(42)\n",
    "    os.environ[\"TF_CPP_MIN_LOG_LEVEL\"] = '2'\n",
    "    os.environ['PYTHONHASHSEED'] = str(42)\n",
    "\n",
    "seed_everything()"
   ]
  },
  {
   "cell_type": "markdown",
   "id": "17319185",
   "metadata": {
    "papermill": {
     "duration": 0.011887,
     "end_time": "2021-10-12T02:24:52.809830",
     "exception": false,
     "start_time": "2021-10-12T02:24:52.797943",
     "status": "completed"
    },
    "tags": []
   },
   "source": [
    "# Preprocessing"
   ]
  },
  {
   "cell_type": "markdown",
   "id": "8e91416e",
   "metadata": {
    "papermill": {
     "duration": 0.012518,
     "end_time": "2021-10-12T02:24:52.834445",
     "exception": false,
     "start_time": "2021-10-12T02:24:52.821927",
     "status": "completed"
    },
    "tags": []
   },
   "source": [
    "## Import dataset"
   ]
  },
  {
   "cell_type": "code",
   "execution_count": 3,
   "id": "19cbb9aa",
   "metadata": {
    "execution": {
     "iopub.execute_input": "2021-10-12T02:24:52.865337Z",
     "iopub.status.busy": "2021-10-12T02:24:52.863241Z",
     "iopub.status.idle": "2021-10-12T02:24:52.928931Z",
     "shell.execute_reply": "2021-10-12T02:24:52.928118Z",
     "shell.execute_reply.started": "2021-10-12T01:46:00.498849Z"
    },
    "papermill": {
     "duration": 0.082555,
     "end_time": "2021-10-12T02:24:52.929061",
     "exception": false,
     "start_time": "2021-10-12T02:24:52.846506",
     "status": "completed"
    },
    "tags": []
   },
   "outputs": [],
   "source": [
    "train_df = pd.read_csv(root_dir + \"train.csv\")\n",
    "test_df = pd.read_csv(root_dir + \"test.csv\")\n",
    "\n",
    "Id = test_df[\"Id\"].copy()\n",
    "\n",
    "train_df[\"Id\"] = train_dir + train_df[\"Id\"] + \".jpg\"\n",
    "test_df[\"Id\"] = test_dir + test_df[\"Id\"] + \".jpg\"\n"
   ]
  },
  {
   "cell_type": "code",
   "execution_count": 4,
   "id": "744905f2",
   "metadata": {
    "execution": {
     "iopub.execute_input": "2021-10-12T02:24:52.966472Z",
     "iopub.status.busy": "2021-10-12T02:24:52.964810Z",
     "iopub.status.idle": "2021-10-12T02:24:52.967086Z",
     "shell.execute_reply": "2021-10-12T02:24:52.967608Z",
     "shell.execute_reply.started": "2021-10-12T01:46:00.577126Z"
    },
    "papermill": {
     "duration": 0.026211,
     "end_time": "2021-10-12T02:24:52.967731",
     "exception": false,
     "start_time": "2021-10-12T02:24:52.941520",
     "status": "completed"
    },
    "tags": []
   },
   "outputs": [],
   "source": [
    "AUTOTUNE = tf.data.experimental.AUTOTUNE\n",
    "def image_preprocess(is_labelled):  \n",
    "    def augment(image):\n",
    "        image = tf.image.random_flip_left_right(image)\n",
    "        image = tf.image.random_saturation(image, 0.90, 1.10)\n",
    "        image = tf.image.random_contrast(image, 0.90, 1.10)\n",
    "        return image\n",
    "    \n",
    "    def can_be_augmented(img, label):\n",
    "        return augment(img), label\n",
    "    \n",
    "    return can_be_augmented if is_labelled else augment\n",
    "\n",
    "def image_read(is_labelled):\n",
    "    def decode(path):\n",
    "        image = tf.io.read_file(path)\n",
    "        image = tf.image.decode_jpeg(image, channels=CHANNEL)\n",
    "        image = tf.cast(image, tf.float32)\n",
    "        image = tf.image.resize(image, (IMAGE_SIZE, IMAGE_SIZE))\n",
    "        image = tf.keras.applications.efficientnet.preprocess_input(image) \n",
    "        return image\n",
    "    \n",
    "    def can_be_decoded(path, label):\n",
    "        return decode(path), label\n",
    "\n",
    "    return can_be_decoded if is_labelled else decode\n",
    "\n",
    "def create_dataset(df, batch_size, is_labelled = False, augment = False, shuffle = False):\n",
    "    image_read_fn = image_read(is_labelled)\n",
    "    image_preprocess_fn = image_preprocess(is_labelled)\n",
    "    \n",
    "    if is_labelled:\n",
    "        dataset = tf.data.Dataset.from_tensor_slices((df[\"Id\"].values, df[\"Pawpularity\"].values))\n",
    "    else:\n",
    "        dataset = tf.data.Dataset.from_tensor_slices((df[\"Id\"].values))\n",
    "    \n",
    "    dataset = dataset.map(image_read_fn, num_parallel_calls=AUTOTUNE)\n",
    "    dataset = dataset.map(image_preprocess_fn, num_parallel_calls=AUTOTUNE) if augment else dataset\n",
    "    dataset = dataset.shuffle(1024, reshuffle_each_iteration=True) if shuffle else dataset\n",
    "    dataset = dataset.batch(batch_size)\n",
    "    dataset = dataset.prefetch(AUTOTUNE)\n",
    "    return dataset"
   ]
  },
  {
   "cell_type": "code",
   "execution_count": 5,
   "id": "dd6a748e",
   "metadata": {
    "execution": {
     "iopub.execute_input": "2021-10-12T02:24:53.003288Z",
     "iopub.status.busy": "2021-10-12T02:24:53.001683Z",
     "iopub.status.idle": "2021-10-12T02:24:53.003936Z",
     "shell.execute_reply": "2021-10-12T02:24:53.004377Z",
     "shell.execute_reply.started": "2021-10-12T01:46:00.591121Z"
    },
    "papermill": {
     "duration": 0.024277,
     "end_time": "2021-10-12T02:24:53.004500",
     "exception": false,
     "start_time": "2021-10-12T02:24:52.980223",
     "status": "completed"
    },
    "tags": []
   },
   "outputs": [],
   "source": [
    "train_percent = 0.75\n",
    "train_size = int(train_percent * len(train_df))\n",
    "\n",
    "shuffle_df = train_df.sample(frac=1)\n",
    "train_set = shuffle_df[:train_size]\n",
    "val_set = shuffle_df[train_size:]"
   ]
  },
  {
   "cell_type": "code",
   "execution_count": 6,
   "id": "828f8f76",
   "metadata": {
    "execution": {
     "iopub.execute_input": "2021-10-12T02:24:54.675923Z",
     "iopub.status.busy": "2021-10-12T02:24:54.670134Z",
     "iopub.status.idle": "2021-10-12T02:24:55.227092Z",
     "shell.execute_reply": "2021-10-12T02:24:55.227847Z",
     "shell.execute_reply.started": "2021-10-12T01:46:00.606328Z"
    },
    "papermill": {
     "duration": 2.210461,
     "end_time": "2021-10-12T02:24:55.228013",
     "exception": false,
     "start_time": "2021-10-12T02:24:53.017552",
     "status": "completed"
    },
    "tags": []
   },
   "outputs": [
    {
     "name": "stderr",
     "output_type": "stream",
     "text": [
      "2021-10-12 02:24:53.037049: I tensorflow/compiler/jit/xla_cpu_device.cc:41] Not creating XLA devices, tf_xla_enable_xla_devices not set\n",
      "2021-10-12 02:24:53.040263: I tensorflow/stream_executor/platform/default/dso_loader.cc:49] Successfully opened dynamic library libcuda.so.1\n",
      "2021-10-12 02:24:53.078431: I tensorflow/stream_executor/cuda/cuda_gpu_executor.cc:941] successful NUMA node read from SysFS had negative value (-1), but there must be at least one NUMA node, so returning NUMA node zero\n",
      "2021-10-12 02:24:53.079200: I tensorflow/core/common_runtime/gpu/gpu_device.cc:1720] Found device 0 with properties: \n",
      "pciBusID: 0000:00:04.0 name: Tesla P100-PCIE-16GB computeCapability: 6.0\n",
      "coreClock: 1.3285GHz coreCount: 56 deviceMemorySize: 15.90GiB deviceMemoryBandwidth: 681.88GiB/s\n",
      "2021-10-12 02:24:53.079290: I tensorflow/stream_executor/platform/default/dso_loader.cc:49] Successfully opened dynamic library libcudart.so.11.0\n",
      "2021-10-12 02:24:53.104989: I tensorflow/stream_executor/platform/default/dso_loader.cc:49] Successfully opened dynamic library libcublas.so.11\n",
      "2021-10-12 02:24:53.105103: I tensorflow/stream_executor/platform/default/dso_loader.cc:49] Successfully opened dynamic library libcublasLt.so.11\n",
      "2021-10-12 02:24:53.121054: I tensorflow/stream_executor/platform/default/dso_loader.cc:49] Successfully opened dynamic library libcufft.so.10\n",
      "2021-10-12 02:24:53.130315: I tensorflow/stream_executor/platform/default/dso_loader.cc:49] Successfully opened dynamic library libcurand.so.10\n",
      "2021-10-12 02:24:53.155704: I tensorflow/stream_executor/platform/default/dso_loader.cc:49] Successfully opened dynamic library libcusolver.so.10\n",
      "2021-10-12 02:24:53.163555: I tensorflow/stream_executor/platform/default/dso_loader.cc:49] Successfully opened dynamic library libcusparse.so.11\n",
      "2021-10-12 02:24:53.166197: I tensorflow/stream_executor/platform/default/dso_loader.cc:49] Successfully opened dynamic library libcudnn.so.8\n",
      "2021-10-12 02:24:53.166394: I tensorflow/stream_executor/cuda/cuda_gpu_executor.cc:941] successful NUMA node read from SysFS had negative value (-1), but there must be at least one NUMA node, so returning NUMA node zero\n",
      "2021-10-12 02:24:53.167215: I tensorflow/stream_executor/cuda/cuda_gpu_executor.cc:941] successful NUMA node read from SysFS had negative value (-1), but there must be at least one NUMA node, so returning NUMA node zero\n",
      "2021-10-12 02:24:53.168765: I tensorflow/core/common_runtime/gpu/gpu_device.cc:1862] Adding visible gpu devices: 0\n",
      "2021-10-12 02:24:53.171064: I tensorflow/core/platform/cpu_feature_guard.cc:142] This TensorFlow binary is optimized with oneAPI Deep Neural Network Library (oneDNN) to use the following CPU instructions in performance-critical operations:  AVX2 AVX512F FMA\n",
      "To enable them in other operations, rebuild TensorFlow with the appropriate compiler flags.\n",
      "2021-10-12 02:24:53.172206: I tensorflow/compiler/jit/xla_gpu_device.cc:99] Not creating XLA devices, tf_xla_enable_xla_devices not set\n",
      "2021-10-12 02:24:53.172387: I tensorflow/stream_executor/cuda/cuda_gpu_executor.cc:941] successful NUMA node read from SysFS had negative value (-1), but there must be at least one NUMA node, so returning NUMA node zero\n",
      "2021-10-12 02:24:53.173001: I tensorflow/core/common_runtime/gpu/gpu_device.cc:1720] Found device 0 with properties: \n",
      "pciBusID: 0000:00:04.0 name: Tesla P100-PCIE-16GB computeCapability: 6.0\n",
      "coreClock: 1.3285GHz coreCount: 56 deviceMemorySize: 15.90GiB deviceMemoryBandwidth: 681.88GiB/s\n",
      "2021-10-12 02:24:53.173053: I tensorflow/stream_executor/platform/default/dso_loader.cc:49] Successfully opened dynamic library libcudart.so.11.0\n",
      "2021-10-12 02:24:53.173092: I tensorflow/stream_executor/platform/default/dso_loader.cc:49] Successfully opened dynamic library libcublas.so.11\n",
      "2021-10-12 02:24:53.173130: I tensorflow/stream_executor/platform/default/dso_loader.cc:49] Successfully opened dynamic library libcublasLt.so.11\n",
      "2021-10-12 02:24:53.173160: I tensorflow/stream_executor/platform/default/dso_loader.cc:49] Successfully opened dynamic library libcufft.so.10\n",
      "2021-10-12 02:24:53.173182: I tensorflow/stream_executor/platform/default/dso_loader.cc:49] Successfully opened dynamic library libcurand.so.10\n",
      "2021-10-12 02:24:53.173198: I tensorflow/stream_executor/platform/default/dso_loader.cc:49] Successfully opened dynamic library libcusolver.so.10\n",
      "2021-10-12 02:24:53.173219: I tensorflow/stream_executor/platform/default/dso_loader.cc:49] Successfully opened dynamic library libcusparse.so.11\n",
      "2021-10-12 02:24:53.173245: I tensorflow/stream_executor/platform/default/dso_loader.cc:49] Successfully opened dynamic library libcudnn.so.8\n",
      "2021-10-12 02:24:53.173364: I tensorflow/stream_executor/cuda/cuda_gpu_executor.cc:941] successful NUMA node read from SysFS had negative value (-1), but there must be at least one NUMA node, so returning NUMA node zero\n",
      "2021-10-12 02:24:53.174053: I tensorflow/stream_executor/cuda/cuda_gpu_executor.cc:941] successful NUMA node read from SysFS had negative value (-1), but there must be at least one NUMA node, so returning NUMA node zero\n",
      "2021-10-12 02:24:53.174678: I tensorflow/core/common_runtime/gpu/gpu_device.cc:1862] Adding visible gpu devices: 0\n",
      "2021-10-12 02:24:53.175606: I tensorflow/stream_executor/platform/default/dso_loader.cc:49] Successfully opened dynamic library libcudart.so.11.0\n",
      "2021-10-12 02:24:54.658130: I tensorflow/core/common_runtime/gpu/gpu_device.cc:1261] Device interconnect StreamExecutor with strength 1 edge matrix:\n",
      "2021-10-12 02:24:54.658181: I tensorflow/core/common_runtime/gpu/gpu_device.cc:1267]      0 \n",
      "2021-10-12 02:24:54.658191: I tensorflow/core/common_runtime/gpu/gpu_device.cc:1280] 0:   N \n",
      "2021-10-12 02:24:54.660432: I tensorflow/stream_executor/cuda/cuda_gpu_executor.cc:941] successful NUMA node read from SysFS had negative value (-1), but there must be at least one NUMA node, so returning NUMA node zero\n",
      "2021-10-12 02:24:54.661262: I tensorflow/stream_executor/cuda/cuda_gpu_executor.cc:941] successful NUMA node read from SysFS had negative value (-1), but there must be at least one NUMA node, so returning NUMA node zero\n",
      "2021-10-12 02:24:54.661948: I tensorflow/stream_executor/cuda/cuda_gpu_executor.cc:941] successful NUMA node read from SysFS had negative value (-1), but there must be at least one NUMA node, so returning NUMA node zero\n",
      "2021-10-12 02:24:54.662518: I tensorflow/core/common_runtime/gpu/gpu_device.cc:1406] Created TensorFlow device (/job:localhost/replica:0/task:0/device:GPU:0 with 14957 MB memory) -> physical GPU (device: 0, name: Tesla P100-PCIE-16GB, pci bus id: 0000:00:04.0, compute capability: 6.0)\n"
     ]
    }
   ],
   "source": [
    "train = create_dataset(train_set, BATCH_SIZE, is_labelled = True, augment = True, shuffle = True)\n",
    "validate = create_dataset(val_set, BATCH_SIZE, is_labelled = True, augment = False, shuffle = False)\n",
    "test = create_dataset(test_df, BATCH_SIZE, is_labelled = False, augment = False, shuffle = False)"
   ]
  },
  {
   "cell_type": "markdown",
   "id": "73ae4778",
   "metadata": {
    "papermill": {
     "duration": 0.012349,
     "end_time": "2021-10-12T02:24:55.253192",
     "exception": false,
     "start_time": "2021-10-12T02:24:55.240843",
     "status": "completed"
    },
    "tags": []
   },
   "source": [
    "# Construct Model"
   ]
  },
  {
   "cell_type": "code",
   "execution_count": 7,
   "id": "20d70647",
   "metadata": {
    "execution": {
     "iopub.execute_input": "2021-10-12T02:24:55.282715Z",
     "iopub.status.busy": "2021-10-12T02:24:55.282066Z",
     "iopub.status.idle": "2021-10-12T02:24:57.287292Z",
     "shell.execute_reply": "2021-10-12T02:24:57.286834Z",
     "shell.execute_reply.started": "2021-10-12T02:06:07.362254Z"
    },
    "papermill": {
     "duration": 2.022135,
     "end_time": "2021-10-12T02:24:57.287447",
     "exception": false,
     "start_time": "2021-10-12T02:24:55.265312",
     "status": "completed"
    },
    "tags": []
   },
   "outputs": [],
   "source": [
    "from tensorflow.keras.applications import VGG16\n",
    "from tensorflow.keras.layers import BatchNormalization, Dense, Flatten\n",
    "from tensorflow.keras import Model\n",
    "vgg = VGG16(input_shape=[IMAGE_SIZE,IMAGE_SIZE,CHANNEL], weights=\"/kaggle/input/vgg16/vgg16_weights_tf_dim_ordering_tf_kernels_notop.h5\", include_top=False)\n",
    "for layer in vgg.layers:\n",
    "    layer.trainable = False"
   ]
  },
  {
   "cell_type": "code",
   "execution_count": 8,
   "id": "3e7d1ba9",
   "metadata": {
    "execution": {
     "iopub.execute_input": "2021-10-12T02:24:57.324050Z",
     "iopub.status.busy": "2021-10-12T02:24:57.323226Z",
     "iopub.status.idle": "2021-10-12T02:24:57.395113Z",
     "shell.execute_reply": "2021-10-12T02:24:57.394636Z",
     "shell.execute_reply.started": "2021-10-12T02:06:09.325473Z"
    },
    "papermill": {
     "duration": 0.095065,
     "end_time": "2021-10-12T02:24:57.395232",
     "exception": false,
     "start_time": "2021-10-12T02:24:57.300167",
     "status": "completed"
    },
    "tags": []
   },
   "outputs": [],
   "source": [
    "model = tf.keras.models.Sequential([\n",
    "    vgg,\n",
    "    Flatten(),\n",
    "    BatchNormalization(),\n",
    "    Dense(units = 64, activation=\"relu\"),\n",
    "    Dense(units = 1, activation=\"relu\")\n",
    "])"
   ]
  },
  {
   "cell_type": "code",
   "execution_count": 9,
   "id": "57b7d86b",
   "metadata": {
    "execution": {
     "iopub.execute_input": "2021-10-12T02:24:57.430740Z",
     "iopub.status.busy": "2021-10-12T02:24:57.428526Z",
     "iopub.status.idle": "2021-10-12T02:24:57.444833Z",
     "shell.execute_reply": "2021-10-12T02:24:57.444422Z",
     "shell.execute_reply.started": "2021-10-12T02:06:11.008526Z"
    },
    "papermill": {
     "duration": 0.037246,
     "end_time": "2021-10-12T02:24:57.444946",
     "exception": false,
     "start_time": "2021-10-12T02:24:57.407700",
     "status": "completed"
    },
    "tags": []
   },
   "outputs": [],
   "source": [
    "model.compile(optimizer='adam',\n",
    "              loss=\"mse\",\n",
    "              metrics=[tf.keras.metrics.RootMeanSquaredError()])"
   ]
  },
  {
   "cell_type": "markdown",
   "id": "46ca6257",
   "metadata": {
    "papermill": {
     "duration": 0.012716,
     "end_time": "2021-10-12T02:24:57.470224",
     "exception": false,
     "start_time": "2021-10-12T02:24:57.457508",
     "status": "completed"
    },
    "tags": []
   },
   "source": [
    "# Train Model"
   ]
  },
  {
   "cell_type": "code",
   "execution_count": 10,
   "id": "a657a188",
   "metadata": {
    "execution": {
     "iopub.execute_input": "2021-10-12T02:24:57.501240Z",
     "iopub.status.busy": "2021-10-12T02:24:57.500290Z",
     "iopub.status.idle": "2021-10-12T02:24:57.502336Z",
     "shell.execute_reply": "2021-10-12T02:24:57.502745Z",
     "shell.execute_reply.started": "2021-10-12T02:06:13.127543Z"
    },
    "papermill": {
     "duration": 0.019328,
     "end_time": "2021-10-12T02:24:57.502867",
     "exception": false,
     "start_time": "2021-10-12T02:24:57.483539",
     "status": "completed"
    },
    "tags": []
   },
   "outputs": [],
   "source": [
    "model_checkpoint = tf.keras.callbacks.ModelCheckpoint(\n",
    "    \"vgg_model.h5\", save_best_only=True)\n",
    "early_stopping = tf.keras.callbacks.EarlyStopping(patience=5)"
   ]
  },
  {
   "cell_type": "code",
   "execution_count": 11,
   "id": "0ba57c63",
   "metadata": {
    "execution": {
     "iopub.execute_input": "2021-10-12T02:24:57.532369Z",
     "iopub.status.busy": "2021-10-12T02:24:57.531708Z",
     "iopub.status.idle": "2021-10-12T02:32:26.515834Z",
     "shell.execute_reply": "2021-10-12T02:32:26.515386Z",
     "shell.execute_reply.started": "2021-10-12T02:06:15.025813Z"
    },
    "papermill": {
     "duration": 449.000759,
     "end_time": "2021-10-12T02:32:26.515965",
     "exception": false,
     "start_time": "2021-10-12T02:24:57.515206",
     "status": "completed"
    },
    "tags": []
   },
   "outputs": [
    {
     "name": "stdout",
     "output_type": "stream",
     "text": [
      "Epoch 1/15\n"
     ]
    },
    {
     "name": "stderr",
     "output_type": "stream",
     "text": [
      "2021-10-12 02:24:58.177531: I tensorflow/compiler/mlir/mlir_graph_optimization_pass.cc:116] None of the MLIR optimization passes are enabled (registered 2)\n",
      "2021-10-12 02:24:58.186612: I tensorflow/core/platform/profile_utils/cpu_utils.cc:112] CPU Frequency: 2000150000 Hz\n",
      "2021-10-12 02:24:58.324959: I tensorflow/stream_executor/platform/default/dso_loader.cc:49] Successfully opened dynamic library libcublas.so.11\n",
      "2021-10-12 02:24:59.253440: I tensorflow/stream_executor/platform/default/dso_loader.cc:49] Successfully opened dynamic library libcublasLt.so.11\n",
      "2021-10-12 02:25:06.749149: I tensorflow/stream_executor/platform/default/dso_loader.cc:49] Successfully opened dynamic library libcudnn.so.8\n"
     ]
    },
    {
     "name": "stdout",
     "output_type": "stream",
     "text": [
      "117/117 [==============================] - 92s 624ms/step - loss: 858.6055 - root_mean_squared_error: 28.9255 - val_loss: 485.2311 - val_root_mean_squared_error: 22.0280\n",
      "Epoch 2/15\n",
      "117/117 [==============================] - 60s 463ms/step - loss: 236.9143 - root_mean_squared_error: 15.3707 - val_loss: 468.5164 - val_root_mean_squared_error: 21.6452\n",
      "Epoch 3/15\n",
      "117/117 [==============================] - 59s 459ms/step - loss: 108.4965 - root_mean_squared_error: 10.4104 - val_loss: 482.7964 - val_root_mean_squared_error: 21.9726\n",
      "Epoch 4/15\n",
      "117/117 [==============================] - 59s 454ms/step - loss: 59.9810 - root_mean_squared_error: 7.7418 - val_loss: 476.2498 - val_root_mean_squared_error: 21.8231\n",
      "Epoch 5/15\n",
      "117/117 [==============================] - 60s 458ms/step - loss: 45.4011 - root_mean_squared_error: 6.7371 - val_loss: 475.1834 - val_root_mean_squared_error: 21.7987\n",
      "Epoch 6/15\n",
      "117/117 [==============================] - 59s 458ms/step - loss: 46.7259 - root_mean_squared_error: 6.8346 - val_loss: 470.8624 - val_root_mean_squared_error: 21.6994\n",
      "Epoch 7/15\n",
      "117/117 [==============================] - 60s 461ms/step - loss: 49.8854 - root_mean_squared_error: 7.0547 - val_loss: 479.9865 - val_root_mean_squared_error: 21.9086\n"
     ]
    }
   ],
   "source": [
    "history = model.fit(train,\n",
    "                      epochs=15, \n",
    "                      validation_data=validate,\n",
    "                      callbacks=[model_checkpoint,early_stopping])"
   ]
  },
  {
   "cell_type": "markdown",
   "id": "adb17528",
   "metadata": {
    "papermill": {
     "duration": 0.222977,
     "end_time": "2021-10-12T02:32:26.966676",
     "exception": false,
     "start_time": "2021-10-12T02:32:26.743699",
     "status": "completed"
    },
    "tags": []
   },
   "source": [
    "# Model Prediction"
   ]
  },
  {
   "cell_type": "code",
   "execution_count": 12,
   "id": "18581fff",
   "metadata": {
    "execution": {
     "iopub.execute_input": "2021-10-12T02:32:27.417615Z",
     "iopub.status.busy": "2021-10-12T02:32:27.416746Z",
     "iopub.status.idle": "2021-10-12T02:32:28.452180Z",
     "shell.execute_reply": "2021-10-12T02:32:28.451481Z",
     "shell.execute_reply.started": "2021-10-12T02:10:16.050269Z"
    },
    "papermill": {
     "duration": 1.262531,
     "end_time": "2021-10-12T02:32:28.452301",
     "exception": false,
     "start_time": "2021-10-12T02:32:27.189770",
     "status": "completed"
    },
    "tags": []
   },
   "outputs": [],
   "source": [
    "prediction = model.predict(test)\n",
    "\n",
    "submission = pd.DataFrame()\n",
    "submission['Id'] = Id\n",
    "submission['Pawpularity'] = prediction\n",
    "submission.to_csv('submission.csv',index=False)"
   ]
  }
 ],
 "metadata": {
  "kernelspec": {
   "display_name": "Python 3",
   "language": "python",
   "name": "python3"
  },
  "language_info": {
   "codemirror_mode": {
    "name": "ipython",
    "version": 3
   },
   "file_extension": ".py",
   "mimetype": "text/x-python",
   "name": "python",
   "nbconvert_exporter": "python",
   "pygments_lexer": "ipython3",
   "version": "3.7.10"
  },
  "papermill": {
   "default_parameters": {},
   "duration": 469.74547,
   "end_time": "2021-10-12T02:32:31.569696",
   "environment_variables": {},
   "exception": null,
   "input_path": "__notebook__.ipynb",
   "output_path": "__notebook__.ipynb",
   "parameters": {},
   "start_time": "2021-10-12T02:24:41.824226",
   "version": "2.3.3"
  }
 },
 "nbformat": 4,
 "nbformat_minor": 5
}
