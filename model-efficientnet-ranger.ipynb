{
 "cells": [
  {
   "cell_type": "code",
   "execution_count": 1,
   "id": "6ceafbd1",
   "metadata": {
    "execution": {
     "iopub.execute_input": "2021-10-25T09:11:57.522573Z",
     "iopub.status.busy": "2021-10-25T09:11:57.520881Z",
     "iopub.status.idle": "2021-10-25T09:12:04.392971Z",
     "shell.execute_reply": "2021-10-25T09:12:04.392371Z",
     "shell.execute_reply.started": "2021-10-25T08:45:52.487706Z"
    },
    "papermill": {
     "duration": 6.962625,
     "end_time": "2021-10-25T09:12:04.393117",
     "exception": false,
     "start_time": "2021-10-25T09:11:57.430492",
     "status": "completed"
    },
    "tags": []
   },
   "outputs": [
    {
     "data": {
      "text/html": [
       "<style type='text/css'>\n",
       ".datatable table.frame { margin-bottom: 0; }\n",
       ".datatable table.frame thead { border-bottom: none; }\n",
       ".datatable table.frame tr.coltypes td {  color: #FFFFFF;  line-height: 6px;  padding: 0 0.5em;}\n",
       ".datatable .bool    { background: #DDDD99; }\n",
       ".datatable .object  { background: #565656; }\n",
       ".datatable .int     { background: #5D9E5D; }\n",
       ".datatable .float   { background: #4040CC; }\n",
       ".datatable .str     { background: #CC4040; }\n",
       ".datatable .time    { background: #40CC40; }\n",
       ".datatable .row_index {  background: var(--jp-border-color3);  border-right: 1px solid var(--jp-border-color0);  color: var(--jp-ui-font-color3);  font-size: 9px;}\n",
       ".datatable .frame tbody td { text-align: left; }\n",
       ".datatable .frame tr.coltypes .row_index {  background: var(--jp-border-color0);}\n",
       ".datatable th:nth-child(2) { padding-left: 12px; }\n",
       ".datatable .hellipsis {  color: var(--jp-cell-editor-border-color);}\n",
       ".datatable .vellipsis {  background: var(--jp-layout-color0);  color: var(--jp-cell-editor-border-color);}\n",
       ".datatable .na {  color: var(--jp-cell-editor-border-color);  font-size: 80%;}\n",
       ".datatable .sp {  opacity: 0.25;}\n",
       ".datatable .footer { font-size: 9px; }\n",
       ".datatable .frame_dimensions {  background: var(--jp-border-color3);  border-top: 1px solid var(--jp-border-color0);  color: var(--jp-ui-font-color3);  display: inline-block;  opacity: 0.6;  padding: 1px 10px 1px 5px;}\n",
       "</style>\n"
      ],
      "text/plain": [
       "<IPython.core.display.HTML object>"
      ]
     },
     "metadata": {},
     "output_type": "display_data"
    },
    {
     "name": "stderr",
     "output_type": "stream",
     "text": [
      "2021-10-25 09:12:00.922730: I tensorflow/stream_executor/platform/default/dso_loader.cc:49] Successfully opened dynamic library libcudart.so.11.0\n"
     ]
    }
   ],
   "source": [
    "import os\n",
    "import random\n",
    "\n",
    "import numpy as np\n",
    "import pandas as pd\n",
    "import lightgbm as lgb\n",
    "import tensorflow as tf\n",
    "from tensorflow.keras import Sequential,Model\n",
    "from tensorflow.keras.layers import Dense,Conv2D,Flatten,Dropout, Input, Concatenate, BatchNormalization\n",
    "from tensorflow.keras.callbacks import EarlyStopping,ReduceLROnPlateau\n",
    "from tensorflow.keras.optimizers.schedules import ExponentialDecay\n",
    "from PIL import Image\n",
    "from sklearn.model_selection import train_test_split\n",
    "import matplotlib.pyplot as plt"
   ]
  },
  {
   "cell_type": "code",
   "execution_count": 2,
   "id": "20381b0e",
   "metadata": {
    "execution": {
     "iopub.execute_input": "2021-10-25T09:12:04.422099Z",
     "iopub.status.busy": "2021-10-25T09:12:04.421421Z",
     "iopub.status.idle": "2021-10-25T09:12:04.424026Z",
     "shell.execute_reply": "2021-10-25T09:12:04.423598Z",
     "shell.execute_reply.started": "2021-10-25T08:45:52.497462Z"
    },
    "papermill": {
     "duration": 0.01905,
     "end_time": "2021-10-25T09:12:04.424129",
     "exception": false,
     "start_time": "2021-10-25T09:12:04.405079",
     "status": "completed"
    },
    "tags": []
   },
   "outputs": [],
   "source": [
    "AUTOTUNE = tf.data.experimental.AUTOTUNE  \n",
    "img_size = 224\n",
    "channels = 3\n",
    "Batch_size = 64\n",
    "\n",
    "\n",
    "train_dir = \"/kaggle/input/petfinder-pawpularity-score/train/\"\n",
    "test_dir = \"/kaggle/input/petfinder-pawpularity-score/test/\"\n",
    "\n",
    "def seed_everything():\n",
    "    np.random.seed(123)\n",
    "    random.seed(123)\n",
    "    tf.random.set_seed(123)\n",
    "    os.environ[\"TF_CPP_MIN_LOG_LEVEL\"] = '2'\n",
    "    os.environ['PYTHONHASHSEED'] = str(123)\n",
    "\n",
    "seed_everything()"
   ]
  },
  {
   "cell_type": "markdown",
   "id": "74d0ea35",
   "metadata": {
    "papermill": {
     "duration": 0.010978,
     "end_time": "2021-10-25T09:12:04.446168",
     "exception": false,
     "start_time": "2021-10-25T09:12:04.435190",
     "status": "completed"
    },
    "tags": []
   },
   "source": [
    "## Preprocessing"
   ]
  },
  {
   "cell_type": "code",
   "execution_count": 3,
   "id": "d8e4c670",
   "metadata": {
    "execution": {
     "iopub.execute_input": "2021-10-25T09:12:04.473756Z",
     "iopub.status.busy": "2021-10-25T09:12:04.473184Z",
     "iopub.status.idle": "2021-10-25T09:12:04.527961Z",
     "shell.execute_reply": "2021-10-25T09:12:04.528381Z",
     "shell.execute_reply.started": "2021-10-25T08:45:52.574587Z"
    },
    "papermill": {
     "duration": 0.07112,
     "end_time": "2021-10-25T09:12:04.528513",
     "exception": false,
     "start_time": "2021-10-25T09:12:04.457393",
     "status": "completed"
    },
    "tags": []
   },
   "outputs": [],
   "source": [
    "df = pd.read_csv(\"/kaggle/input/petfinder-pawpularity-score/train.csv\")\n",
    "df_test = pd.read_csv(\"/kaggle/input/petfinder-pawpularity-score/test.csv\")\n",
    "Id = df_test[\"Id\"].copy()\n",
    "\n",
    "df[\"Id\"] = df[\"Id\"].apply(lambda x : \"/kaggle/input/petfinder-pawpularity-score/train/\" + x + \".jpg\")\n",
    "df_test[\"Id\"] = df_test[\"Id\"].apply(lambda x : \"/kaggle/input/petfinder-pawpularity-score/test/\" + x + \".jpg\")"
   ]
  },
  {
   "cell_type": "code",
   "execution_count": 4,
   "id": "915e30f1",
   "metadata": {
    "execution": {
     "iopub.execute_input": "2021-10-25T09:12:04.559375Z",
     "iopub.status.busy": "2021-10-25T09:12:04.558579Z",
     "iopub.status.idle": "2021-10-25T09:12:04.564300Z",
     "shell.execute_reply": "2021-10-25T09:12:04.564720Z",
     "shell.execute_reply.started": "2021-10-25T08:45:52.607834Z"
    },
    "papermill": {
     "duration": 0.025071,
     "end_time": "2021-10-25T09:12:04.564843",
     "exception": false,
     "start_time": "2021-10-25T09:12:04.539772",
     "status": "completed"
    },
    "tags": []
   },
   "outputs": [],
   "source": [
    "\n",
    "def image_preprocess(is_labelled):  \n",
    "    def augment(image):\n",
    "        image = tf.image.random_flip_left_right(image)\n",
    "        image = tf.image.random_saturation(image, 0.95, 1.05)\n",
    "        image = tf.image.random_contrast(image, 0.95, 1.05)\n",
    "        return image\n",
    "    \n",
    "    def can_be_augmented(img, label):\n",
    "        return augment(img), label\n",
    "    \n",
    "    return can_be_augmented if is_labelled else augment\n",
    "\n",
    "def image_read(is_labelled):\n",
    "    def decode(path):\n",
    "        image = tf.io.read_file(path)\n",
    "        image = tf.image.decode_jpeg(image, channels=channels)\n",
    "        image = tf.cast(image, tf.float32)\n",
    "        image = tf.image.resize(image, (img_size, img_size))\n",
    "        image = tf.keras.applications.efficientnet.preprocess_input(image) \n",
    "        return image\n",
    "    \n",
    "    def can_be_decoded(path, label):\n",
    "        return decode(path), label\n",
    "\n",
    "    return can_be_decoded if is_labelled else decode\n",
    "\n",
    "def create_dataset(df, batch_size, is_labelled = False, augment = False, shuffle = False):\n",
    "    image_read_fn = image_read(is_labelled)\n",
    "    image_preprocess_fn = image_preprocess(is_labelled)\n",
    "    \n",
    "    if is_labelled:\n",
    "        dataset = tf.data.Dataset.from_tensor_slices((df[\"Id\"].values, df[\"Pawpularity\"].values))\n",
    "    else:\n",
    "        dataset = tf.data.Dataset.from_tensor_slices((df[\"Id\"].values))\n",
    "    \n",
    "    dataset = dataset.map(image_read_fn, num_parallel_calls=AUTOTUNE)\n",
    "    dataset = dataset.map(image_preprocess_fn, num_parallel_calls=AUTOTUNE) if augment else dataset\n",
    "    dataset = dataset.shuffle(1024, reshuffle_each_iteration=True) if shuffle else dataset\n",
    "    dataset = dataset.batch(batch_size)\n",
    "    dataset = dataset.prefetch(AUTOTUNE)\n",
    "    return dataset"
   ]
  },
  {
   "cell_type": "code",
   "execution_count": null,
   "id": "2c50b282",
   "metadata": {
    "execution": {
     "iopub.execute_input": "2021-10-25T09:12:04.592153Z",
     "iopub.status.busy": "2021-10-25T09:12:04.591481Z",
     "iopub.status.idle": "2021-10-25T09:12:06.832813Z",
     "shell.execute_reply": "2021-10-25T09:12:06.832243Z",
     "shell.execute_reply.started": "2021-10-25T08:45:52.624549Z"
    },
    "papermill": {
     "duration": 2.256986,
     "end_time": "2021-10-25T09:12:06.832937",
     "exception": false,
     "start_time": "2021-10-25T09:12:04.575951",
     "status": "completed"
    },
    "tags": []
   },
   "outputs": [],
   "source": [
    "trn = df.iloc[:7434]\n",
    "val = df.iloc[7434:]\n",
    "\n",
    "train = create_dataset(trn, Batch_size, is_labelled = True, augment = True, shuffle = True)\n",
    "validation = create_dataset(val, Batch_size, is_labelled = True, augment = False, shuffle = False)\n",
    "test = create_dataset(df_test, Batch_size, is_labelled = False, augment = False, shuffle=False)"
   ]
  },
  {
   "cell_type": "markdown",
   "id": "3aa873f3",
   "metadata": {
    "papermill": {
     "duration": 0.011763,
     "end_time": "2021-10-25T09:12:06.857225",
     "exception": false,
     "start_time": "2021-10-25T09:12:06.845462",
     "status": "completed"
    },
    "tags": []
   },
   "source": [
    "\n",
    "## CNN for Images"
   ]
  },
  {
   "cell_type": "code",
   "execution_count": 6,
   "id": "ef614d1e",
   "metadata": {
    "execution": {
     "iopub.execute_input": "2021-10-25T09:12:06.885826Z",
     "iopub.status.busy": "2021-10-25T09:12:06.885178Z",
     "iopub.status.idle": "2021-10-25T09:12:09.304078Z",
     "shell.execute_reply": "2021-10-25T09:12:09.303534Z",
     "shell.execute_reply.started": "2021-10-25T08:45:52.700936Z"
    },
    "papermill": {
     "duration": 2.435333,
     "end_time": "2021-10-25T09:12:09.304207",
     "exception": false,
     "start_time": "2021-10-25T09:12:06.868874",
     "status": "completed"
    },
    "tags": []
   },
   "outputs": [],
   "source": [
    "img_mod = \"/kaggle/input/keras-applications-models/EfficientNetB0.h5\"\n",
    "efnet = tf.keras.models.load_model(img_mod)\n",
    "\n",
    "# Layers of efficientnet will not be trained\n",
    "efnet.trainable = False"
   ]
  },
  {
   "cell_type": "code",
   "execution_count": 7,
   "id": "77c4cc41",
   "metadata": {
    "execution": {
     "iopub.execute_input": "2021-10-25T09:12:09.338626Z",
     "iopub.status.busy": "2021-10-25T09:12:09.337796Z",
     "iopub.status.idle": "2021-10-25T09:12:09.917218Z",
     "shell.execute_reply": "2021-10-25T09:12:09.917708Z",
     "shell.execute_reply.started": "2021-10-25T08:45:54.901731Z"
    },
    "papermill": {
     "duration": 0.601265,
     "end_time": "2021-10-25T09:12:09.917870",
     "exception": false,
     "start_time": "2021-10-25T09:12:09.316605",
     "status": "completed"
    },
    "tags": []
   },
   "outputs": [],
   "source": [
    "model = Sequential([\n",
    "    Input(shape=(img_size, img_size, channels)),\n",
    "    efnet,\n",
    "    BatchNormalization(),\n",
    "    Dropout(0.2),\n",
    "    Dense(units = 128, activation=\"relu\"),\n",
    "    Dense(units = 1, activation=\"relu\")\n",
    "])"
   ]
  },
  {
   "cell_type": "code",
   "execution_count": 8,
   "id": "3668a516",
   "metadata": {
    "execution": {
     "iopub.execute_input": "2021-10-25T09:12:09.969229Z",
     "iopub.status.busy": "2021-10-25T09:12:09.967097Z",
     "iopub.status.idle": "2021-10-25T09:12:09.971675Z",
     "shell.execute_reply": "2021-10-25T09:12:09.971219Z",
     "shell.execute_reply.started": "2021-10-25T08:45:55.534253Z"
    },
    "papermill": {
     "duration": 0.01904,
     "end_time": "2021-10-25T09:12:09.971775",
     "exception": false,
     "start_time": "2021-10-25T09:12:09.952735",
     "status": "completed"
    },
    "tags": []
   },
   "outputs": [],
   "source": [
    "early_stopping = EarlyStopping(patience = 5,restore_best_weights=True)\n",
    "\n",
    "\n",
    "lr_schedule = ExponentialDecay(\n",
    "    initial_learning_rate=1e-2,\n",
    "    decay_steps=100, decay_rate=0.96,\n",
    "    staircase=True)"
   ]
  },
  {
   "cell_type": "code",
   "execution_count": 9,
   "id": "6c516411",
   "metadata": {
    "execution": {
     "iopub.execute_input": "2021-10-25T09:12:10.000726Z",
     "iopub.status.busy": "2021-10-25T09:12:10.000090Z",
     "iopub.status.idle": "2021-10-25T09:12:10.098753Z",
     "shell.execute_reply": "2021-10-25T09:12:10.098213Z",
     "shell.execute_reply.started": "2021-10-25T08:45:55.541565Z"
    },
    "papermill": {
     "duration": 0.115569,
     "end_time": "2021-10-25T09:12:10.098881",
     "exception": false,
     "start_time": "2021-10-25T09:12:09.983312",
     "status": "completed"
    },
    "tags": []
   },
   "outputs": [],
   "source": [
    "import tensorflow_addons as tfa\n",
    "\n",
    "def Ranger(sync_period=6,\n",
    "           slow_step_size=0.5,\n",
    "           learning_rate=0.001,\n",
    "           beta_1=0.9,\n",
    "           beta_2=0.999,\n",
    "           epsilon=1e-7,\n",
    "           weight_decay=0.,\n",
    "           amsgrad=False,\n",
    "           sma_threshold=5.0,\n",
    "           total_steps=0,\n",
    "           warmup_proportion=0.1,\n",
    "           min_lr=0.,\n",
    "           name=\"Ranger\"):\n",
    "    inner = tfa.optimizers.RectifiedAdam(learning_rate, beta_1, beta_2, epsilon, weight_decay, amsgrad, sma_threshold, total_steps, warmup_proportion, min_lr, name)\n",
    "    optim = tfa.optimizers.Lookahead(inner, sync_period, slow_step_size, name)\n",
    "    return optim"
   ]
  },
  {
   "cell_type": "code",
   "execution_count": null,
   "id": "63b2f407",
   "metadata": {
    "execution": {
     "iopub.execute_input": "2021-10-25T09:12:10.132950Z",
     "iopub.status.busy": "2021-10-25T09:12:10.132160Z",
     "iopub.status.idle": "2021-10-25T09:23:05.168895Z",
     "shell.execute_reply": "2021-10-25T09:23:05.169325Z",
     "shell.execute_reply.started": "2021-10-25T08:45:55.551530Z"
    },
    "papermill": {
     "duration": 655.059113,
     "end_time": "2021-10-25T09:23:05.169513",
     "exception": false,
     "start_time": "2021-10-25T09:12:10.110400",
     "status": "completed"
    },
    "tags": []
   },
   "outputs": [],
   "source": [
    "model.compile(loss=\"mse\", \n",
    "              optimizer = Ranger(learning_rate = lr_schedule), \n",
    "              metrics=[tf.keras.metrics.RootMeanSquaredError()])\n",
    "\n",
    "predictor = model.fit(train,\n",
    "                      epochs=20, \n",
    "                      validation_data = validation,\n",
    "                      callbacks=[early_stopping])"
   ]
  },
  {
   "cell_type": "markdown",
   "id": "3c661e51",
   "metadata": {
    "papermill": {
     "duration": 0.379546,
     "end_time": "2021-10-25T09:23:06.742151",
     "exception": false,
     "start_time": "2021-10-25T09:23:06.362605",
     "status": "completed"
    },
    "tags": []
   },
   "source": [
    "## Create Submission File"
   ]
  },
  {
   "cell_type": "code",
   "execution_count": 12,
   "id": "582c9b11",
   "metadata": {
    "execution": {
     "iopub.execute_input": "2021-10-25T09:23:07.511212Z",
     "iopub.status.busy": "2021-10-25T09:23:07.510338Z",
     "iopub.status.idle": "2021-10-25T09:23:08.946250Z",
     "shell.execute_reply": "2021-10-25T09:23:08.945445Z",
     "shell.execute_reply.started": "2021-10-25T08:56:18.949212Z"
    },
    "papermill": {
     "duration": 1.822089,
     "end_time": "2021-10-25T09:23:08.946425",
     "exception": false,
     "start_time": "2021-10-25T09:23:07.124336",
     "status": "completed"
    },
    "tags": []
   },
   "outputs": [],
   "source": [
    "pred = model.predict(test)\n",
    "\n",
    "final=pd.DataFrame()\n",
    "final['Id']=Id\n",
    "final['Pawpularity']=pred\n",
    "final.to_csv('submission.csv',index=False)"
   ]
  }
 ],
 "metadata": {
  "kernelspec": {
   "display_name": "Python 3",
   "language": "python",
   "name": "python3"
  },
  "language_info": {
   "codemirror_mode": {
    "name": "ipython",
    "version": 3
   },
   "file_extension": ".py",
   "mimetype": "text/x-python",
   "name": "python",
   "nbconvert_exporter": "python",
   "pygments_lexer": "ipython3",
   "version": "3.7.10"
  },
  "papermill": {
   "default_parameters": {},
   "duration": 681.866029,
   "end_time": "2021-10-25T09:23:12.825210",
   "environment_variables": {},
   "exception": null,
   "input_path": "__notebook__.ipynb",
   "output_path": "__notebook__.ipynb",
   "parameters": {},
   "start_time": "2021-10-25T09:11:50.959181",
   "version": "2.3.3"
  }
 },
 "nbformat": 4,
 "nbformat_minor": 5
}
