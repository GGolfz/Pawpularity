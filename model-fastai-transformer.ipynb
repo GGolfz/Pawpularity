{
 "cells": [
  {
   "cell_type": "code",
   "execution_count": 1,
   "id": "2075c08c",
   "metadata": {
    "execution": {
     "iopub.execute_input": "2021-11-23T12:15:33.095676Z",
     "iopub.status.busy": "2021-11-23T12:15:33.094182Z",
     "iopub.status.idle": "2021-11-23T12:15:40.966184Z",
     "shell.execute_reply": "2021-11-23T12:15:40.965197Z",
     "shell.execute_reply.started": "2021-11-20T14:10:44.155247Z"
    },
    "papermill": {
     "duration": 7.888078,
     "end_time": "2021-11-23T12:15:40.966348",
     "exception": false,
     "start_time": "2021-11-23T12:15:33.078270",
     "status": "completed"
    },
    "tags": []
   },
   "outputs": [],
   "source": [
    "import sys\n",
    "import pandas as pd\n",
    "import matplotlib.pyplot as plt\n",
    "import numpy as np\n",
    "sys.path.append('../input/timm-pytorch-image-models/pytorch-image-models-master')\n",
    "from timm import create_model\n",
    "from fastai.vision.all import *\n",
    "import gc"
   ]
  },
  {
   "cell_type": "code",
   "execution_count": 2,
   "id": "e0e5076b",
   "metadata": {
    "execution": {
     "iopub.execute_input": "2021-11-23T12:15:40.991615Z",
     "iopub.status.busy": "2021-11-23T12:15:40.990869Z",
     "iopub.status.idle": "2021-11-23T12:15:40.992965Z",
     "shell.execute_reply": "2021-11-23T12:15:40.993356Z",
     "shell.execute_reply.started": "2021-11-20T14:11:04.419022Z"
    },
    "papermill": {
     "duration": 0.017535,
     "end_time": "2021-11-23T12:15:40.993484",
     "exception": false,
     "start_time": "2021-11-23T12:15:40.975949",
     "status": "completed"
    },
    "tags": []
   },
   "outputs": [],
   "source": [
    "seed=4444\n",
    "set_seed(seed, reproducible=True)\n",
    "BATCH_SIZE = 32\n",
    "epochs=5\n",
    "n=5\n",
    "beta=0\n",
    "N_FOLDS=10\n",
    "learning_rate=1e-5\n",
    "set_seed(seed, reproducible=True)\n",
    "torch.manual_seed(seed)\n",
    "torch.cuda.manual_seed(seed)\n",
    "torch.backends.cudnn.deterministic = True\n",
    "torch.use_deterministic_algorithms = True"
   ]
  },
  {
   "cell_type": "code",
   "execution_count": 3,
   "id": "8a4bb44a",
   "metadata": {
    "execution": {
     "iopub.execute_input": "2021-11-23T12:15:41.016350Z",
     "iopub.status.busy": "2021-11-23T12:15:41.015743Z",
     "iopub.status.idle": "2021-11-23T12:15:41.067260Z",
     "shell.execute_reply": "2021-11-23T12:15:41.066421Z",
     "shell.execute_reply.started": "2021-11-20T14:11:22.489527Z"
    },
    "papermill": {
     "duration": 0.065031,
     "end_time": "2021-11-23T12:15:41.067377",
     "exception": false,
     "start_time": "2021-11-23T12:15:41.002346",
     "status": "completed"
    },
    "tags": []
   },
   "outputs": [],
   "source": [
    "train_df = pd.read_csv('../input/petfinder-pawpularity-score/train.csv')\n",
    "train_df['path'] = train_df['Id'].map(lambda x:str('../input/petfinder-pawpularity-score/train/'+x)+'.jpg')\n",
    "train_df = train_df.drop(columns=['Id'])\n",
    "train_df['norm_score'] = train_df['Pawpularity']/100"
   ]
  },
  {
   "cell_type": "code",
   "execution_count": 4,
   "id": "de8d9064",
   "metadata": {
    "execution": {
     "iopub.execute_input": "2021-11-23T12:15:41.091130Z",
     "iopub.status.busy": "2021-11-23T12:15:41.090226Z",
     "iopub.status.idle": "2021-11-23T12:15:50.324080Z",
     "shell.execute_reply": "2021-11-23T12:15:50.324560Z",
     "shell.execute_reply.started": "2021-11-07T04:18:43.832991Z"
    },
    "papermill": {
     "duration": 9.248275,
     "end_time": "2021-11-23T12:15:50.324721",
     "exception": false,
     "start_time": "2021-11-23T12:15:41.076446",
     "status": "completed"
    },
    "tags": []
   },
   "outputs": [],
   "source": [
    "if not os.path.exists('/root/.cache/torch/hub/checkpoints/'):\n",
    "    os.makedirs('/root/.cache/torch/hub/checkpoints/')\n",
    "!cp '../input/swin-transformer/swin_large_patch4_window7_224_22kto1k.pth' '/root/.cache/torch/hub/checkpoints/swin_large_patch4_window7_224_22kto1k.pth'"
   ]
  },
  {
   "cell_type": "code",
   "execution_count": 5,
   "id": "34bab5e2",
   "metadata": {
    "execution": {
     "iopub.execute_input": "2021-11-23T12:15:50.352028Z",
     "iopub.status.busy": "2021-11-23T12:15:50.351187Z",
     "iopub.status.idle": "2021-11-23T12:15:50.355658Z",
     "shell.execute_reply": "2021-11-23T12:15:50.355253Z",
     "shell.execute_reply.started": "2021-11-20T14:11:26.535027Z"
    },
    "papermill": {
     "duration": 0.021249,
     "end_time": "2021-11-23T12:15:50.355766",
     "exception": false,
     "start_time": "2021-11-23T12:15:50.334517",
     "status": "completed"
    },
    "tags": []
   },
   "outputs": [],
   "source": [
    "num_bins = int(np.floor(1+np.log2(len(train_df))))\n",
    "train_df['bins'] = pd.cut(train_df['norm_score'], bins=num_bins, labels=False)"
   ]
  },
  {
   "cell_type": "code",
   "execution_count": 6,
   "id": "84e03782",
   "metadata": {
    "execution": {
     "iopub.execute_input": "2021-11-23T12:15:50.376377Z",
     "iopub.status.busy": "2021-11-23T12:15:50.375595Z",
     "iopub.status.idle": "2021-11-23T12:15:50.627071Z",
     "shell.execute_reply": "2021-11-23T12:15:50.627489Z",
     "shell.execute_reply.started": "2021-11-20T14:12:36.00123Z"
    },
    "papermill": {
     "duration": 0.262993,
     "end_time": "2021-11-23T12:15:50.627642",
     "exception": false,
     "start_time": "2021-11-23T12:15:50.364649",
     "status": "completed"
    },
    "tags": []
   },
   "outputs": [
    {
     "data": {
      "text/plain": [
       "<AxesSubplot:>"
      ]
     },
     "execution_count": 6,
     "metadata": {},
     "output_type": "execute_result"
    },
    {
     "data": {
      "image/png": "[encoded data removed]",
      "text/plain": [
       "<Figure size 432x288 with 1 Axes>"
      ]
     },
     "metadata": {
      "needs_background": "light"
     },
     "output_type": "display_data"
    }
   ],
   "source": [
    "from sklearn.model_selection import KFold\n",
    "from sklearn.model_selection import StratifiedKFold\n",
    "\n",
    "train_df['fold'] = -1\n",
    "\n",
    "strat_kfold = StratifiedKFold(n_splits=N_FOLDS, random_state=seed, shuffle=True)\n",
    "for i, (_, train_index) in enumerate(strat_kfold.split(train_df.index, train_df['bins'])):\n",
    "    train_df.iloc[train_index, -1] = i\n",
    "    \n",
    "train_df['fold'] = train_df['fold'].astype('int')\n",
    "\n",
    "train_df.fold.value_counts().plot.bar()"
   ]
  },
  {
   "cell_type": "code",
   "execution_count": 7,
   "id": "87b922dc",
   "metadata": {
    "execution": {
     "iopub.execute_input": "2021-11-23T12:15:50.652344Z",
     "iopub.status.busy": "2021-11-23T12:15:50.651765Z",
     "iopub.status.idle": "2021-11-23T12:15:50.655699Z",
     "shell.execute_reply": "2021-11-23T12:15:50.655255Z",
     "shell.execute_reply.started": "2021-11-07T04:18:55.169834Z"
    },
    "papermill": {
     "duration": 0.017725,
     "end_time": "2021-11-23T12:15:50.655806",
     "exception": false,
     "start_time": "2021-11-23T12:15:50.638081",
     "status": "completed"
    },
    "tags": []
   },
   "outputs": [],
   "source": [
    "def petfinder_rmse(input,target):\n",
    "    return 100*torch.sqrt(F.mse_loss(F.sigmoid(input.flatten()), target))"
   ]
  },
  {
   "cell_type": "code",
   "execution_count": 8,
   "id": "6fd222b3",
   "metadata": {
    "execution": {
     "iopub.execute_input": "2021-11-23T12:15:50.681369Z",
     "iopub.status.busy": "2021-11-23T12:15:50.680635Z",
     "iopub.status.idle": "2021-11-23T12:15:50.682920Z",
     "shell.execute_reply": "2021-11-23T12:15:50.683380Z",
     "shell.execute_reply.started": "2021-11-07T04:54:03.808701Z"
    },
    "papermill": {
     "duration": 0.017868,
     "end_time": "2021-11-23T12:15:50.683502",
     "exception": false,
     "start_time": "2021-11-23T12:15:50.665634",
     "status": "completed"
    },
    "tags": []
   },
   "outputs": [],
   "source": [
    "def get_data(fold):\n",
    "    train_df_f = train_df.copy()\n",
    "    train_df_f['is_valid'] = (train_df_f['fold'] == fold)\n",
    "    dls = ImageDataLoaders.from_df(train_df_f, \n",
    "                               valid_col='is_valid', \n",
    "                               seed=seed, \n",
    "                               fn_col='path',\n",
    "                               label_col='norm_score',\n",
    "                               y_block=RegressionBlock,\n",
    "                               bs=BATCH_SIZE,\n",
    "                               num_workers=8,\n",
    "                               item_tfms=Resize(224),\n",
    "                               batch_tfms=setup_aug_tfms([Brightness(), Contrast(), Hue(), Saturation()]))\n",
    "    return dls\n"
   ]
  },
  {
   "cell_type": "code",
   "execution_count": 9,
   "id": "52e8a78e",
   "metadata": {
    "execution": {
     "iopub.execute_input": "2021-11-23T12:15:50.707831Z",
     "iopub.status.busy": "2021-11-23T12:15:50.707020Z",
     "iopub.status.idle": "2021-11-23T12:15:50.709695Z",
     "shell.execute_reply": "2021-11-23T12:15:50.709182Z",
     "shell.execute_reply.started": "2021-11-04T04:20:56.044705Z"
    },
    "papermill": {
     "duration": 0.016618,
     "end_time": "2021-11-23T12:15:50.709832",
     "exception": false,
     "start_time": "2021-11-23T12:15:50.693214",
     "status": "completed"
    },
    "tags": []
   },
   "outputs": [],
   "source": [
    "def get_learner(fold_num):\n",
    "    data = get_data(fold_num)\n",
    "    model = create_model('swin_large_patch4_window7_224', pretrained=True, num_classes=data.c)\n",
    "    learn = Learner(data, model, loss_func=BCEWithLogitsLossFlat(), metrics=petfinder_rmse).to_fp16()\n",
    "    return learn"
   ]
  },
  {
   "cell_type": "code",
   "execution_count": 10,
   "id": "7983b5cc",
   "metadata": {
    "execution": {
     "iopub.execute_input": "2021-11-23T12:15:50.732467Z",
     "iopub.status.busy": "2021-11-23T12:15:50.731585Z",
     "iopub.status.idle": "2021-11-23T12:15:50.745372Z",
     "shell.execute_reply": "2021-11-23T12:15:50.744949Z",
     "shell.execute_reply.started": "2021-11-04T04:20:56.088368Z"
    },
    "papermill": {
     "duration": 0.025795,
     "end_time": "2021-11-23T12:15:50.745482",
     "exception": false,
     "start_time": "2021-11-23T12:15:50.719687",
     "status": "completed"
    },
    "tags": []
   },
   "outputs": [],
   "source": [
    "test_df = pd.read_csv('../input/petfinder-pawpularity-score/test.csv')\n",
    "test_df['Pawpularity'] = [1]*len(test_df)\n",
    "test_df['path'] = test_df['Id'].map(lambda x:str('../input/petfinder-pawpularity-score/test/'+x)+'.jpg')\n",
    "test_df = test_df.drop(columns=['Id'])\n",
    "train_df['norm_score'] = train_df['Pawpularity']/100"
   ]
  },
  {
   "cell_type": "code",
   "execution_count": 11,
   "id": "6f80e4f7",
   "metadata": {
    "execution": {
     "iopub.execute_input": "2021-11-23T12:15:50.771035Z",
     "iopub.status.busy": "2021-11-23T12:15:50.770200Z",
     "iopub.status.idle": "2021-11-23T16:57:18.613888Z",
     "shell.execute_reply": "2021-11-23T16:57:18.613055Z",
     "shell.execute_reply.started": "2021-11-04T04:24:21.069181Z"
    },
    "papermill": {
     "duration": 16887.858751,
     "end_time": "2021-11-23T16:57:18.614028",
     "exception": false,
     "start_time": "2021-11-23T12:15:50.755277",
     "status": "completed"
    },
    "tags": []
   },
   "outputs": [
    {
     "name": "stdout",
     "output_type": "stream",
     "text": [
      "Fold 1 results\n"
     ]
    },
    {
     "data": {
      "text/html": [
       "<table border=\"1\" class=\"dataframe\">\n",
       "  <thead>\n",
       "    <tr style=\"text-align: left;\">\n",
       "      <th>epoch</th>\n",
       "      <th>train_loss</th>\n",
       "      <th>valid_loss</th>\n",
       "      <th>petfinder_rmse</th>\n",
       "      <th>time</th>\n",
       "    </tr>\n",
       "  </thead>\n",
       "  <tbody>\n",
       "    <tr>\n",
       "      <td>0</td>\n",
       "      <td>0.657841</td>\n",
       "      <td>0.650198</td>\n",
       "      <td>18.511196</td>\n",
       "      <td>07:06</td>\n",
       "    </tr>\n",
       "    <tr>\n",
       "      <td>1</td>\n",
       "      <td>0.646916</td>\n",
       "      <td>0.641386</td>\n",
       "      <td>17.410295</td>\n",
       "      <td>06:57</td>\n",
       "    </tr>\n",
       "    <tr>\n",
       "      <td>2</td>\n",
       "      <td>0.641230</td>\n",
       "      <td>0.639773</td>\n",
       "      <td>17.191681</td>\n",
       "      <td>06:58</td>\n",
       "    </tr>\n",
       "    <tr>\n",
       "      <td>3</td>\n",
       "      <td>0.637153</td>\n",
       "      <td>0.639360</td>\n",
       "      <td>17.124065</td>\n",
       "      <td>06:57</td>\n",
       "    </tr>\n",
       "    <tr>\n",
       "      <td>4</td>\n",
       "      <td>0.634405</td>\n",
       "      <td>0.639619</td>\n",
       "      <td>17.151358</td>\n",
       "      <td>06:58</td>\n",
       "    </tr>\n",
       "  </tbody>\n",
       "</table>"
      ],
      "text/plain": [
       "<IPython.core.display.HTML object>"
      ]
     },
     "metadata": {},
     "output_type": "display_data"
    },
    {
     "name": "stderr",
     "output_type": "stream",
     "text": [
      "/opt/conda/lib/python3.7/site-packages/torch/nn/functional.py:1805: UserWarning: nn.functional.sigmoid is deprecated. Use torch.sigmoid instead.\n",
      "  warnings.warn(\"nn.functional.sigmoid is deprecated. Use torch.sigmoid instead.\")\n"
     ]
    },
    {
     "name": "stdout",
     "output_type": "stream",
     "text": [
      "Better model found at epoch 0 with valid_loss value: 0.6501977443695068.\n",
      "Better model found at epoch 1 with valid_loss value: 0.6413859724998474.\n",
      "Better model found at epoch 2 with valid_loss value: 0.6397727131843567.\n",
      "Better model found at epoch 3 with valid_loss value: 0.6393595337867737.\n"
     ]
    },
    {
     "data": {
      "text/html": [
       "\n",
       "    <div>\n",
       "        <style>\n",
       "            /* Turns off some styling */\n",
       "            progress {\n",
       "                /* gets rid of default border in Firefox and Opera. */\n",
       "                border: none;\n",
       "                /* Needs to be in here for Safari polyfill so background images work as expected. */\n",
       "                background-size: auto;\n",
       "            }\n",
       "            .progress-bar-interrupted, .progress-bar-interrupted::-webkit-progress-bar {\n",
       "                background: #F44336;\n",
       "            }\n",
       "        </style>\n",
       "      <progress value='0' class='' max='5' style='width:300px; height:20px; vertical-align: middle;'></progress>\n",
       "      \n",
       "    </div>\n",
       "    \n"
      ],
      "text/plain": [
       "<IPython.core.display.HTML object>"
      ]
     },
     "metadata": {},
     "output_type": "display_data"
    },
    {
     "data": {
      "text/html": [],
      "text/plain": [
       "<IPython.core.display.HTML object>"
      ]
     },
     "metadata": {},
     "output_type": "display_data"
    },
    {
     "name": "stdout",
     "output_type": "stream",
     "text": [
      "Fold 2 results\n"
     ]
    },
    {
     "data": {
      "text/html": [
       "<table border=\"1\" class=\"dataframe\">\n",
       "  <thead>\n",
       "    <tr style=\"text-align: left;\">\n",
       "      <th>epoch</th>\n",
       "      <th>train_loss</th>\n",
       "      <th>valid_loss</th>\n",
       "      <th>petfinder_rmse</th>\n",
       "      <th>time</th>\n",
       "    </tr>\n",
       "  </thead>\n",
       "  <tbody>\n",
       "    <tr>\n",
       "      <td>0</td>\n",
       "      <td>0.656942</td>\n",
       "      <td>0.653622</td>\n",
       "      <td>19.057318</td>\n",
       "      <td>06:59</td>\n",
       "    </tr>\n",
       "    <tr>\n",
       "      <td>1</td>\n",
       "      <td>0.645469</td>\n",
       "      <td>0.645205</td>\n",
       "      <td>17.983870</td>\n",
       "      <td>06:57</td>\n",
       "    </tr>\n",
       "    <tr>\n",
       "      <td>2</td>\n",
       "      <td>0.640140</td>\n",
       "      <td>0.644352</td>\n",
       "      <td>17.851645</td>\n",
       "      <td>06:58</td>\n",
       "    </tr>\n",
       "    <tr>\n",
       "      <td>3</td>\n",
       "      <td>0.634143</td>\n",
       "      <td>0.644189</td>\n",
       "      <td>17.806343</td>\n",
       "      <td>06:58</td>\n",
       "    </tr>\n",
       "    <tr>\n",
       "      <td>4</td>\n",
       "      <td>0.634991</td>\n",
       "      <td>0.643857</td>\n",
       "      <td>17.785868</td>\n",
       "      <td>06:58</td>\n",
       "    </tr>\n",
       "  </tbody>\n",
       "</table>"
      ],
      "text/plain": [
       "<IPython.core.display.HTML object>"
      ]
     },
     "metadata": {},
     "output_type": "display_data"
    },
    {
     "name": "stderr",
     "output_type": "stream",
     "text": [
      "/opt/conda/lib/python3.7/site-packages/torch/nn/functional.py:1805: UserWarning: nn.functional.sigmoid is deprecated. Use torch.sigmoid instead.\n",
      "  warnings.warn(\"nn.functional.sigmoid is deprecated. Use torch.sigmoid instead.\")\n"
     ]
    },
    {
     "name": "stdout",
     "output_type": "stream",
     "text": [
      "Better model found at epoch 0 with valid_loss value: 0.6536222696304321.\n",
      "Better model found at epoch 1 with valid_loss value: 0.6452047228813171.\n",
      "Better model found at epoch 2 with valid_loss value: 0.644351601600647.\n",
      "Better model found at epoch 3 with valid_loss value: 0.644189178943634.\n",
      "Better model found at epoch 4 with valid_loss value: 0.6438568830490112.\n"
     ]
    },
    {
     "data": {
      "text/html": [
       "\n",
       "    <div>\n",
       "        <style>\n",
       "            /* Turns off some styling */\n",
       "            progress {\n",
       "                /* gets rid of default border in Firefox and Opera. */\n",
       "                border: none;\n",
       "                /* Needs to be in here for Safari polyfill so background images work as expected. */\n",
       "                background-size: auto;\n",
       "            }\n",
       "            .progress-bar-interrupted, .progress-bar-interrupted::-webkit-progress-bar {\n",
       "                background: #F44336;\n",
       "            }\n",
       "        </style>\n",
       "      <progress value='0' class='' max='5' style='width:300px; height:20px; vertical-align: middle;'></progress>\n",
       "      \n",
       "    </div>\n",
       "    \n"
      ],
      "text/plain": [
       "<IPython.core.display.HTML object>"
      ]
     },
     "metadata": {},
     "output_type": "display_data"
    },
    {
     "data": {
      "text/html": [],
      "text/plain": [
       "<IPython.core.display.HTML object>"
      ]
     },
     "metadata": {},
     "output_type": "display_data"
    },
    {
     "name": "stdout",
     "output_type": "stream",
     "text": [
      "Fold 3 results\n"
     ]
    },
    {
     "data": {
      "text/html": [
       "<table border=\"1\" class=\"dataframe\">\n",
       "  <thead>\n",
       "    <tr style=\"text-align: left;\">\n",
       "      <th>epoch</th>\n",
       "      <th>train_loss</th>\n",
       "      <th>valid_loss</th>\n",
       "      <th>petfinder_rmse</th>\n",
       "      <th>time</th>\n",
       "    </tr>\n",
       "  </thead>\n",
       "  <tbody>\n",
       "    <tr>\n",
       "      <td>0</td>\n",
       "      <td>0.655387</td>\n",
       "      <td>0.652843</td>\n",
       "      <td>19.088633</td>\n",
       "      <td>06:57</td>\n",
       "    </tr>\n",
       "    <tr>\n",
       "      <td>1</td>\n",
       "      <td>0.644546</td>\n",
       "      <td>0.645280</td>\n",
       "      <td>18.080580</td>\n",
       "      <td>06:58</td>\n",
       "    </tr>\n",
       "    <tr>\n",
       "      <td>2</td>\n",
       "      <td>0.642271</td>\n",
       "      <td>0.642367</td>\n",
       "      <td>17.711666</td>\n",
       "      <td>06:57</td>\n",
       "    </tr>\n",
       "    <tr>\n",
       "      <td>3</td>\n",
       "      <td>0.639054</td>\n",
       "      <td>0.642053</td>\n",
       "      <td>17.657921</td>\n",
       "      <td>06:58</td>\n",
       "    </tr>\n",
       "    <tr>\n",
       "      <td>4</td>\n",
       "      <td>0.635210</td>\n",
       "      <td>0.641719</td>\n",
       "      <td>17.604294</td>\n",
       "      <td>06:58</td>\n",
       "    </tr>\n",
       "  </tbody>\n",
       "</table>"
      ],
      "text/plain": [
       "<IPython.core.display.HTML object>"
      ]
     },
     "metadata": {},
     "output_type": "display_data"
    },
    {
     "name": "stderr",
     "output_type": "stream",
     "text": [
      "/opt/conda/lib/python3.7/site-packages/torch/nn/functional.py:1805: UserWarning: nn.functional.sigmoid is deprecated. Use torch.sigmoid instead.\n",
      "  warnings.warn(\"nn.functional.sigmoid is deprecated. Use torch.sigmoid instead.\")\n"
     ]
    },
    {
     "name": "stdout",
     "output_type": "stream",
     "text": [
      "Better model found at epoch 0 with valid_loss value: 0.652843177318573.\n",
      "Better model found at epoch 1 with valid_loss value: 0.6452803015708923.\n",
      "Better model found at epoch 2 with valid_loss value: 0.6423670649528503.\n",
      "Better model found at epoch 3 with valid_loss value: 0.642053484916687.\n",
      "Better model found at epoch 4 with valid_loss value: 0.6417186260223389.\n"
     ]
    },
    {
     "data": {
      "text/html": [
       "\n",
       "    <div>\n",
       "        <style>\n",
       "            /* Turns off some styling */\n",
       "            progress {\n",
       "                /* gets rid of default border in Firefox and Opera. */\n",
       "                border: none;\n",
       "                /* Needs to be in here for Safari polyfill so background images work as expected. */\n",
       "                background-size: auto;\n",
       "            }\n",
       "            .progress-bar-interrupted, .progress-bar-interrupted::-webkit-progress-bar {\n",
       "                background: #F44336;\n",
       "            }\n",
       "        </style>\n",
       "      <progress value='0' class='' max='5' style='width:300px; height:20px; vertical-align: middle;'></progress>\n",
       "      \n",
       "    </div>\n",
       "    \n"
      ],
      "text/plain": [
       "<IPython.core.display.HTML object>"
      ]
     },
     "metadata": {},
     "output_type": "display_data"
    },
    {
     "data": {
      "text/html": [],
      "text/plain": [
       "<IPython.core.display.HTML object>"
      ]
     },
     "metadata": {},
     "output_type": "display_data"
    },
    {
     "name": "stdout",
     "output_type": "stream",
     "text": [
      "Fold 4 results\n"
     ]
    },
    {
     "data": {
      "text/html": [
       "<table border=\"1\" class=\"dataframe\">\n",
       "  <thead>\n",
       "    <tr style=\"text-align: left;\">\n",
       "      <th>epoch</th>\n",
       "      <th>train_loss</th>\n",
       "      <th>valid_loss</th>\n",
       "      <th>petfinder_rmse</th>\n",
       "      <th>time</th>\n",
       "    </tr>\n",
       "  </thead>\n",
       "  <tbody>\n",
       "    <tr>\n",
       "      <td>0</td>\n",
       "      <td>0.659399</td>\n",
       "      <td>0.652518</td>\n",
       "      <td>19.016283</td>\n",
       "      <td>06:57</td>\n",
       "    </tr>\n",
       "    <tr>\n",
       "      <td>1</td>\n",
       "      <td>0.645578</td>\n",
       "      <td>0.644098</td>\n",
       "      <td>17.967138</td>\n",
       "      <td>06:56</td>\n",
       "    </tr>\n",
       "    <tr>\n",
       "      <td>2</td>\n",
       "      <td>0.639230</td>\n",
       "      <td>0.642704</td>\n",
       "      <td>17.787033</td>\n",
       "      <td>06:57</td>\n",
       "    </tr>\n",
       "    <tr>\n",
       "      <td>3</td>\n",
       "      <td>0.638488</td>\n",
       "      <td>0.640961</td>\n",
       "      <td>17.531019</td>\n",
       "      <td>06:57</td>\n",
       "    </tr>\n",
       "    <tr>\n",
       "      <td>4</td>\n",
       "      <td>0.634012</td>\n",
       "      <td>0.640923</td>\n",
       "      <td>17.532164</td>\n",
       "      <td>06:58</td>\n",
       "    </tr>\n",
       "  </tbody>\n",
       "</table>"
      ],
      "text/plain": [
       "<IPython.core.display.HTML object>"
      ]
     },
     "metadata": {},
     "output_type": "display_data"
    },
    {
     "name": "stderr",
     "output_type": "stream",
     "text": [
      "/opt/conda/lib/python3.7/site-packages/torch/nn/functional.py:1805: UserWarning: nn.functional.sigmoid is deprecated. Use torch.sigmoid instead.\n",
      "  warnings.warn(\"nn.functional.sigmoid is deprecated. Use torch.sigmoid instead.\")\n"
     ]
    },
    {
     "name": "stdout",
     "output_type": "stream",
     "text": [
      "Better model found at epoch 0 with valid_loss value: 0.6525180339813232.\n",
      "Better model found at epoch 1 with valid_loss value: 0.6440979838371277.\n",
      "Better model found at epoch 2 with valid_loss value: 0.6427043676376343.\n",
      "Better model found at epoch 3 with valid_loss value: 0.640961229801178.\n",
      "Better model found at epoch 4 with valid_loss value: 0.6409226059913635.\n"
     ]
    },
    {
     "data": {
      "text/html": [
       "\n",
       "    <div>\n",
       "        <style>\n",
       "            /* Turns off some styling */\n",
       "            progress {\n",
       "                /* gets rid of default border in Firefox and Opera. */\n",
       "                border: none;\n",
       "                /* Needs to be in here for Safari polyfill so background images work as expected. */\n",
       "                background-size: auto;\n",
       "            }\n",
       "            .progress-bar-interrupted, .progress-bar-interrupted::-webkit-progress-bar {\n",
       "                background: #F44336;\n",
       "            }\n",
       "        </style>\n",
       "      <progress value='0' class='' max='5' style='width:300px; height:20px; vertical-align: middle;'></progress>\n",
       "      \n",
       "    </div>\n",
       "    \n"
      ],
      "text/plain": [
       "<IPython.core.display.HTML object>"
      ]
     },
     "metadata": {},
     "output_type": "display_data"
    },
    {
     "data": {
      "text/html": [],
      "text/plain": [
       "<IPython.core.display.HTML object>"
      ]
     },
     "metadata": {},
     "output_type": "display_data"
    },
    {
     "name": "stdout",
     "output_type": "stream",
     "text": [
      "Fold 5 results\n"
     ]
    },
    {
     "data": {
      "text/html": [
       "<table border=\"1\" class=\"dataframe\">\n",
       "  <thead>\n",
       "    <tr style=\"text-align: left;\">\n",
       "      <th>epoch</th>\n",
       "      <th>train_loss</th>\n",
       "      <th>valid_loss</th>\n",
       "      <th>petfinder_rmse</th>\n",
       "      <th>time</th>\n",
       "    </tr>\n",
       "  </thead>\n",
       "  <tbody>\n",
       "    <tr>\n",
       "      <td>0</td>\n",
       "      <td>0.656377</td>\n",
       "      <td>0.651414</td>\n",
       "      <td>18.848860</td>\n",
       "      <td>06:58</td>\n",
       "    </tr>\n",
       "    <tr>\n",
       "      <td>1</td>\n",
       "      <td>0.645787</td>\n",
       "      <td>0.641568</td>\n",
       "      <td>17.613171</td>\n",
       "      <td>06:57</td>\n",
       "    </tr>\n",
       "    <tr>\n",
       "      <td>2</td>\n",
       "      <td>0.642915</td>\n",
       "      <td>0.639538</td>\n",
       "      <td>17.325068</td>\n",
       "      <td>06:58</td>\n",
       "    </tr>\n",
       "    <tr>\n",
       "      <td>3</td>\n",
       "      <td>0.637247</td>\n",
       "      <td>0.639230</td>\n",
       "      <td>17.270706</td>\n",
       "      <td>06:58</td>\n",
       "    </tr>\n",
       "    <tr>\n",
       "      <td>4</td>\n",
       "      <td>0.636841</td>\n",
       "      <td>0.639027</td>\n",
       "      <td>17.255028</td>\n",
       "      <td>06:59</td>\n",
       "    </tr>\n",
       "  </tbody>\n",
       "</table>"
      ],
      "text/plain": [
       "<IPython.core.display.HTML object>"
      ]
     },
     "metadata": {},
     "output_type": "display_data"
    },
    {
     "name": "stderr",
     "output_type": "stream",
     "text": [
      "/opt/conda/lib/python3.7/site-packages/torch/nn/functional.py:1805: UserWarning: nn.functional.sigmoid is deprecated. Use torch.sigmoid instead.\n",
      "  warnings.warn(\"nn.functional.sigmoid is deprecated. Use torch.sigmoid instead.\")\n"
     ]
    },
    {
     "name": "stdout",
     "output_type": "stream",
     "text": [
      "Better model found at epoch 0 with valid_loss value: 0.6514140367507935.\n",
      "Better model found at epoch 1 with valid_loss value: 0.6415676474571228.\n",
      "Better model found at epoch 2 with valid_loss value: 0.639537513256073.\n",
      "Better model found at epoch 3 with valid_loss value: 0.6392298340797424.\n",
      "Better model found at epoch 4 with valid_loss value: 0.6390269994735718.\n"
     ]
    },
    {
     "data": {
      "text/html": [
       "\n",
       "    <div>\n",
       "        <style>\n",
       "            /* Turns off some styling */\n",
       "            progress {\n",
       "                /* gets rid of default border in Firefox and Opera. */\n",
       "                border: none;\n",
       "                /* Needs to be in here for Safari polyfill so background images work as expected. */\n",
       "                background-size: auto;\n",
       "            }\n",
       "            .progress-bar-interrupted, .progress-bar-interrupted::-webkit-progress-bar {\n",
       "                background: #F44336;\n",
       "            }\n",
       "        </style>\n",
       "      <progress value='0' class='' max='5' style='width:300px; height:20px; vertical-align: middle;'></progress>\n",
       "      \n",
       "    </div>\n",
       "    \n"
      ],
      "text/plain": [
       "<IPython.core.display.HTML object>"
      ]
     },
     "metadata": {},
     "output_type": "display_data"
    },
    {
     "data": {
      "text/html": [],
      "text/plain": [
       "<IPython.core.display.HTML object>"
      ]
     },
     "metadata": {},
     "output_type": "display_data"
    },
    {
     "name": "stdout",
     "output_type": "stream",
     "text": [
      "Fold 6 results\n"
     ]
    },
    {
     "data": {
      "text/html": [
       "<table border=\"1\" class=\"dataframe\">\n",
       "  <thead>\n",
       "    <tr style=\"text-align: left;\">\n",
       "      <th>epoch</th>\n",
       "      <th>train_loss</th>\n",
       "      <th>valid_loss</th>\n",
       "      <th>petfinder_rmse</th>\n",
       "      <th>time</th>\n",
       "    </tr>\n",
       "  </thead>\n",
       "  <tbody>\n",
       "    <tr>\n",
       "      <td>0</td>\n",
       "      <td>0.657104</td>\n",
       "      <td>0.653014</td>\n",
       "      <td>18.854216</td>\n",
       "      <td>06:58</td>\n",
       "    </tr>\n",
       "    <tr>\n",
       "      <td>1</td>\n",
       "      <td>0.643018</td>\n",
       "      <td>0.646192</td>\n",
       "      <td>17.973011</td>\n",
       "      <td>06:57</td>\n",
       "    </tr>\n",
       "    <tr>\n",
       "      <td>2</td>\n",
       "      <td>0.640727</td>\n",
       "      <td>0.644452</td>\n",
       "      <td>17.777552</td>\n",
       "      <td>06:57</td>\n",
       "    </tr>\n",
       "    <tr>\n",
       "      <td>3</td>\n",
       "      <td>0.636313</td>\n",
       "      <td>0.644602</td>\n",
       "      <td>17.777233</td>\n",
       "      <td>06:57</td>\n",
       "    </tr>\n",
       "    <tr>\n",
       "      <td>4</td>\n",
       "      <td>0.636815</td>\n",
       "      <td>0.644761</td>\n",
       "      <td>17.788095</td>\n",
       "      <td>06:57</td>\n",
       "    </tr>\n",
       "  </tbody>\n",
       "</table>"
      ],
      "text/plain": [
       "<IPython.core.display.HTML object>"
      ]
     },
     "metadata": {},
     "output_type": "display_data"
    },
    {
     "name": "stderr",
     "output_type": "stream",
     "text": [
      "/opt/conda/lib/python3.7/site-packages/torch/nn/functional.py:1805: UserWarning: nn.functional.sigmoid is deprecated. Use torch.sigmoid instead.\n",
      "  warnings.warn(\"nn.functional.sigmoid is deprecated. Use torch.sigmoid instead.\")\n"
     ]
    },
    {
     "name": "stdout",
     "output_type": "stream",
     "text": [
      "Better model found at epoch 0 with valid_loss value: 0.6530135869979858.\n",
      "Better model found at epoch 1 with valid_loss value: 0.6461917161941528.\n",
      "Better model found at epoch 2 with valid_loss value: 0.6444517970085144.\n"
     ]
    },
    {
     "data": {
      "text/html": [
       "\n",
       "    <div>\n",
       "        <style>\n",
       "            /* Turns off some styling */\n",
       "            progress {\n",
       "                /* gets rid of default border in Firefox and Opera. */\n",
       "                border: none;\n",
       "                /* Needs to be in here for Safari polyfill so background images work as expected. */\n",
       "                background-size: auto;\n",
       "            }\n",
       "            .progress-bar-interrupted, .progress-bar-interrupted::-webkit-progress-bar {\n",
       "                background: #F44336;\n",
       "            }\n",
       "        </style>\n",
       "      <progress value='0' class='' max='5' style='width:300px; height:20px; vertical-align: middle;'></progress>\n",
       "      \n",
       "    </div>\n",
       "    \n"
      ],
      "text/plain": [
       "<IPython.core.display.HTML object>"
      ]
     },
     "metadata": {},
     "output_type": "display_data"
    },
    {
     "data": {
      "text/html": [],
      "text/plain": [
       "<IPython.core.display.HTML object>"
      ]
     },
     "metadata": {},
     "output_type": "display_data"
    },
    {
     "name": "stdout",
     "output_type": "stream",
     "text": [
      "Fold 7 results\n"
     ]
    },
    {
     "data": {
      "text/html": [
       "<table border=\"1\" class=\"dataframe\">\n",
       "  <thead>\n",
       "    <tr style=\"text-align: left;\">\n",
       "      <th>epoch</th>\n",
       "      <th>train_loss</th>\n",
       "      <th>valid_loss</th>\n",
       "      <th>petfinder_rmse</th>\n",
       "      <th>time</th>\n",
       "    </tr>\n",
       "  </thead>\n",
       "  <tbody>\n",
       "    <tr>\n",
       "      <td>0</td>\n",
       "      <td>0.655925</td>\n",
       "      <td>0.647722</td>\n",
       "      <td>18.580610</td>\n",
       "      <td>06:57</td>\n",
       "    </tr>\n",
       "    <tr>\n",
       "      <td>1</td>\n",
       "      <td>0.646633</td>\n",
       "      <td>0.638943</td>\n",
       "      <td>17.410473</td>\n",
       "      <td>06:58</td>\n",
       "    </tr>\n",
       "    <tr>\n",
       "      <td>2</td>\n",
       "      <td>0.641099</td>\n",
       "      <td>0.636622</td>\n",
       "      <td>17.068159</td>\n",
       "      <td>06:58</td>\n",
       "    </tr>\n",
       "    <tr>\n",
       "      <td>3</td>\n",
       "      <td>0.636333</td>\n",
       "      <td>0.636197</td>\n",
       "      <td>16.996721</td>\n",
       "      <td>06:58</td>\n",
       "    </tr>\n",
       "    <tr>\n",
       "      <td>4</td>\n",
       "      <td>0.636370</td>\n",
       "      <td>0.636097</td>\n",
       "      <td>16.979494</td>\n",
       "      <td>06:59</td>\n",
       "    </tr>\n",
       "  </tbody>\n",
       "</table>"
      ],
      "text/plain": [
       "<IPython.core.display.HTML object>"
      ]
     },
     "metadata": {},
     "output_type": "display_data"
    },
    {
     "name": "stderr",
     "output_type": "stream",
     "text": [
      "/opt/conda/lib/python3.7/site-packages/torch/nn/functional.py:1805: UserWarning: nn.functional.sigmoid is deprecated. Use torch.sigmoid instead.\n",
      "  warnings.warn(\"nn.functional.sigmoid is deprecated. Use torch.sigmoid instead.\")\n"
     ]
    },
    {
     "name": "stdout",
     "output_type": "stream",
     "text": [
      "Better model found at epoch 0 with valid_loss value: 0.6477217674255371.\n",
      "Better model found at epoch 1 with valid_loss value: 0.6389428377151489.\n",
      "Better model found at epoch 2 with valid_loss value: 0.6366220712661743.\n",
      "Better model found at epoch 3 with valid_loss value: 0.6361967921257019.\n",
      "Better model found at epoch 4 with valid_loss value: 0.6360974311828613.\n"
     ]
    },
    {
     "data": {
      "text/html": [
       "\n",
       "    <div>\n",
       "        <style>\n",
       "            /* Turns off some styling */\n",
       "            progress {\n",
       "                /* gets rid of default border in Firefox and Opera. */\n",
       "                border: none;\n",
       "                /* Needs to be in here for Safari polyfill so background images work as expected. */\n",
       "                background-size: auto;\n",
       "            }\n",
       "            .progress-bar-interrupted, .progress-bar-interrupted::-webkit-progress-bar {\n",
       "                background: #F44336;\n",
       "            }\n",
       "        </style>\n",
       "      <progress value='0' class='' max='5' style='width:300px; height:20px; vertical-align: middle;'></progress>\n",
       "      \n",
       "    </div>\n",
       "    \n"
      ],
      "text/plain": [
       "<IPython.core.display.HTML object>"
      ]
     },
     "metadata": {},
     "output_type": "display_data"
    },
    {
     "data": {
      "text/html": [],
      "text/plain": [
       "<IPython.core.display.HTML object>"
      ]
     },
     "metadata": {},
     "output_type": "display_data"
    },
    {
     "name": "stdout",
     "output_type": "stream",
     "text": [
      "Fold 8 results\n"
     ]
    },
    {
     "data": {
      "text/html": [
       "<table border=\"1\" class=\"dataframe\">\n",
       "  <thead>\n",
       "    <tr style=\"text-align: left;\">\n",
       "      <th>epoch</th>\n",
       "      <th>train_loss</th>\n",
       "      <th>valid_loss</th>\n",
       "      <th>petfinder_rmse</th>\n",
       "      <th>time</th>\n",
       "    </tr>\n",
       "  </thead>\n",
       "  <tbody>\n",
       "    <tr>\n",
       "      <td>0</td>\n",
       "      <td>0.657932</td>\n",
       "      <td>0.651774</td>\n",
       "      <td>18.807627</td>\n",
       "      <td>06:57</td>\n",
       "    </tr>\n",
       "    <tr>\n",
       "      <td>1</td>\n",
       "      <td>0.646807</td>\n",
       "      <td>0.643593</td>\n",
       "      <td>17.762106</td>\n",
       "      <td>06:57</td>\n",
       "    </tr>\n",
       "    <tr>\n",
       "      <td>2</td>\n",
       "      <td>0.639525</td>\n",
       "      <td>0.641204</td>\n",
       "      <td>17.496162</td>\n",
       "      <td>06:57</td>\n",
       "    </tr>\n",
       "    <tr>\n",
       "      <td>3</td>\n",
       "      <td>0.636098</td>\n",
       "      <td>0.641128</td>\n",
       "      <td>17.455067</td>\n",
       "      <td>06:59</td>\n",
       "    </tr>\n",
       "    <tr>\n",
       "      <td>4</td>\n",
       "      <td>0.636178</td>\n",
       "      <td>0.641288</td>\n",
       "      <td>17.476404</td>\n",
       "      <td>06:58</td>\n",
       "    </tr>\n",
       "  </tbody>\n",
       "</table>"
      ],
      "text/plain": [
       "<IPython.core.display.HTML object>"
      ]
     },
     "metadata": {},
     "output_type": "display_data"
    },
    {
     "name": "stderr",
     "output_type": "stream",
     "text": [
      "/opt/conda/lib/python3.7/site-packages/torch/nn/functional.py:1805: UserWarning: nn.functional.sigmoid is deprecated. Use torch.sigmoid instead.\n",
      "  warnings.warn(\"nn.functional.sigmoid is deprecated. Use torch.sigmoid instead.\")\n"
     ]
    },
    {
     "name": "stdout",
     "output_type": "stream",
     "text": [
      "Better model found at epoch 0 with valid_loss value: 0.6517743468284607.\n",
      "Better model found at epoch 1 with valid_loss value: 0.6435927152633667.\n",
      "Better model found at epoch 2 with valid_loss value: 0.6412040591239929.\n",
      "Better model found at epoch 3 with valid_loss value: 0.6411276459693909.\n"
     ]
    },
    {
     "data": {
      "text/html": [
       "\n",
       "    <div>\n",
       "        <style>\n",
       "            /* Turns off some styling */\n",
       "            progress {\n",
       "                /* gets rid of default border in Firefox and Opera. */\n",
       "                border: none;\n",
       "                /* Needs to be in here for Safari polyfill so background images work as expected. */\n",
       "                background-size: auto;\n",
       "            }\n",
       "            .progress-bar-interrupted, .progress-bar-interrupted::-webkit-progress-bar {\n",
       "                background: #F44336;\n",
       "            }\n",
       "        </style>\n",
       "      <progress value='0' class='' max='5' style='width:300px; height:20px; vertical-align: middle;'></progress>\n",
       "      \n",
       "    </div>\n",
       "    \n"
      ],
      "text/plain": [
       "<IPython.core.display.HTML object>"
      ]
     },
     "metadata": {},
     "output_type": "display_data"
    },
    {
     "data": {
      "text/html": [],
      "text/plain": [
       "<IPython.core.display.HTML object>"
      ]
     },
     "metadata": {},
     "output_type": "display_data"
    }
   ],
   "source": [
    "all_preds = []\n",
    "\n",
    "for i in range(1, N_FOLDS+1):\n",
    "\n",
    "    print(f'Fold {i} results')\n",
    "    \n",
    "    learn = get_learner(fold_num=(i-1))\n",
    "    learn.fit_one_cycle(epochs, learning_rate, cbs=[SaveModelCallback(), EarlyStoppingCallback(monitor='petfinder_rmse', comp=np.less, patience=2)]) \n",
    "    \n",
    "    dls = ImageDataLoaders.from_df(train_df, \n",
    "                               valid_pct=0.25, \n",
    "                               seed=seed,\n",
    "                               fn_col='path', \n",
    "                               label_col='norm_score', \n",
    "                               y_block=RegressionBlock, \n",
    "                               bs=BATCH_SIZE,\n",
    "                               num_workers=8,\n",
    "                               item_tfms=Resize(224),\n",
    "                               batch_tfms=setup_aug_tfms([Brightness(), Contrast(), Hue(), Saturation()])) \n",
    "    \n",
    "    test_dl = dls.test_dl(test_df)\n",
    "    preds, _ = learn.tta(dl=test_dl, n=n, beta=beta)\n",
    "    all_preds.append(preds)\n",
    "    \n",
    "    del learn\n",
    "    torch.cuda.empty_cache()\n",
    "    gc.collect()"
   ]
  },
  {
   "cell_type": "code",
   "execution_count": 12,
   "id": "b57fbc24",
   "metadata": {
    "execution": {
     "iopub.execute_input": "2021-11-23T16:57:18.692237Z",
     "iopub.status.busy": "2021-11-23T16:57:18.691572Z",
     "iopub.status.idle": "2021-11-23T16:57:18.712471Z",
     "shell.execute_reply": "2021-11-23T16:57:18.712048Z",
     "shell.execute_reply.started": "2021-11-20T14:26:44.005329Z"
    },
    "papermill": {
     "duration": 0.060957,
     "end_time": "2021-11-23T16:57:18.712585",
     "exception": false,
     "start_time": "2021-11-23T16:57:18.651628",
     "status": "completed"
    },
    "tags": []
   },
   "outputs": [],
   "source": [
    "test_df = pd.read_csv('../input/petfinder-pawpularity-score/test.csv')\n",
    "output_df = test_df[[\"Id\"]].copy()\n",
    "preds = np.mean(np.stack(all_preds), axis=0)\n",
    "output_df[\"Pawpularity\"] = preds*100\n",
    "output_df.to_csv('submission.csv',index=False)"
   ]
  }
 ],
 "metadata": {
  "kernelspec": {
   "display_name": "Python 3",
   "language": "python",
   "name": "python3"
  },
  "language_info": {
   "codemirror_mode": {
    "name": "ipython",
    "version": 3
   },
   "file_extension": ".py",
   "mimetype": "text/x-python",
   "name": "python",
   "nbconvert_exporter": "python",
   "pygments_lexer": "ipython3",
   "version": "3.7.10"
  },
  "papermill": {
   "default_parameters": {},
   "duration": 16916.213523,
   "end_time": "2021-11-23T16:57:21.797106",
   "environment_variables": {},
   "exception": null,
   "input_path": "__notebook__.ipynb",
   "output_path": "__notebook__.ipynb",
   "parameters": {},
   "start_time": "2021-11-23T12:15:25.583583",
   "version": "2.3.3"
  }
 },
 "nbformat": 4,
 "nbformat_minor": 5
}
