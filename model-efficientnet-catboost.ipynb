{
 "cells": [
  {
   "cell_type": "markdown",
   "id": "09bdddb5",
   "metadata": {},
   "source": [
    "# Setup"
   ]
  },
  {
   "cell_type": "code",
   "execution_count": null,
   "id": "0f3f97ca",
   "metadata": {
    "_kg_hide-output": true,
    "execution": {
     "iopub.execute_input": "2021-10-27T15:38:09.349847Z",
     "iopub.status.busy": "2021-10-27T15:38:09.348344Z",
     "iopub.status.idle": "2021-10-27T15:39:11.572102Z",
     "shell.execute_reply": "2021-10-27T15:39:11.572887Z",
     "shell.execute_reply.started": "2021-10-09T14:51:51.882085Z"
    },
    "papermill": {
     "duration": 62.241952,
     "end_time": "2021-10-27T15:39:11.573186",
     "exception": false,
     "start_time": "2021-10-27T15:38:09.331234",
     "status": "completed"
    },
    "tags": []
   },
   "outputs": [],
   "source": [
    "!pip install '../input/pawpularset/Keras_Applications-1.0.8-py3-none-any.whl'\n",
    "!pip install '../input/pawpularset/efficientnet-1.1.1-py3-none-any.whl'\n",
    "\n",
    "import gc\n",
    "import numpy as np\n",
    "import pandas as pd\n",
    "import random\n",
    "from catboost import CatBoostRegressor\n",
    "from sklearn.metrics import mean_squared_error\n",
    "from sklearn.model_selection import StratifiedKFold, train_test_split\n",
    "\n",
    "import tensorflow as tf\n",
    "import efficientnet.tfkeras as efn\n",
    "from tensorflow.keras.layers import Input"
   ]
  },
  {
   "cell_type": "code",
   "execution_count": 2,
   "id": "861785e1",
   "metadata": {
    "execution": {
     "iopub.execute_input": "2021-10-27T15:39:11.612127Z",
     "iopub.status.busy": "2021-10-27T15:39:11.611265Z",
     "iopub.status.idle": "2021-10-27T15:39:11.613265Z",
     "shell.execute_reply": "2021-10-27T15:39:11.613681Z",
     "shell.execute_reply.started": "2021-10-09T14:52:56.834393Z"
    },
    "papermill": {
     "duration": 0.023688,
     "end_time": "2021-10-27T15:39:11.613826",
     "exception": false,
     "start_time": "2021-10-27T15:39:11.590138",
     "status": "completed"
    },
    "tags": []
   },
   "outputs": [],
   "source": [
    "IMG_SIZE = 384\n",
    "CHANNELS = 3\n",
    "BATCH_SIZE = 16\n",
    "Q = 30\n",
    "EPOCHS = 8\n",
    "FOLDS = 6\n",
    "FEATURE_FOLDS = 10\n",
    "SEED = 1234\n",
    "VERBOSE = 1\n",
    "LR = 0.000005\n",
    "\n",
    "TRAIN_FEATURE_MODEL = False\n",
    "\n",
    "DATA_DIR = '../input/petfinder-pawpularity-score/'\n",
    "TRAIN_DIR = DATA_DIR + 'train/'\n",
    "TEST_DIR = DATA_DIR + 'test/'"
   ]
  },
  {
   "cell_type": "markdown",
   "id": "59756057",
   "metadata": {
    "papermill": {
     "duration": 0.015936,
     "end_time": "2021-10-27T15:39:11.645817",
     "exception": false,
     "start_time": "2021-10-27T15:39:11.629881",
     "status": "completed"
    },
    "tags": []
   },
   "source": [
    "## SET GPU"
   ]
  },
  {
   "cell_type": "code",
   "execution_count": 3,
   "id": "defc8db8",
   "metadata": {
    "execution": {
     "iopub.execute_input": "2021-10-27T15:39:11.684135Z",
     "iopub.status.busy": "2021-10-27T15:39:11.683523Z",
     "iopub.status.idle": "2021-10-27T15:39:11.693296Z",
     "shell.execute_reply": "2021-10-27T15:39:11.692853Z",
     "shell.execute_reply.started": "2021-10-09T14:52:56.845452Z"
    },
    "papermill": {
     "duration": 0.031319,
     "end_time": "2021-10-27T15:39:11.693409",
     "exception": false,
     "start_time": "2021-10-27T15:39:11.662090",
     "status": "completed"
    },
    "tags": []
   },
   "outputs": [],
   "source": [
    "tf.config.optimizer.set_jit(enabled = \"autoclustering\")\n",
    "strategy = tf.distribute.get_strategy()\n",
    "AUTOTUNE = tf.data.experimental.AUTOTUNE   "
   ]
  },
  {
   "cell_type": "markdown",
   "id": "fdf7cd10",
   "metadata": {
    "papermill": {
     "duration": 0.015767,
     "end_time": "2021-10-27T15:39:11.725178",
     "exception": false,
     "start_time": "2021-10-27T15:39:11.709411",
     "status": "completed"
    },
    "tags": []
   },
   "source": [
    "## Training data"
   ]
  },
  {
   "cell_type": "code",
   "execution_count": null,
   "id": "90887bd5",
   "metadata": {
    "execution": {
     "iopub.execute_input": "2021-10-27T15:39:11.764224Z",
     "iopub.status.busy": "2021-10-27T15:39:11.763627Z",
     "iopub.status.idle": "2021-10-27T15:39:11.836113Z",
     "shell.execute_reply": "2021-10-27T15:39:11.836586Z",
     "shell.execute_reply.started": "2021-10-09T14:52:56.862557Z"
    },
    "papermill": {
     "duration": 0.095455,
     "end_time": "2021-10-27T15:39:11.836746",
     "exception": false,
     "start_time": "2021-10-27T15:39:11.741291",
     "status": "completed"
    },
    "tags": []
   },
   "outputs": [],
   "source": [
    "train_df = pd.read_csv(f'{DATA_DIR}train.csv')\n",
    "train_df['Id'] = train_df['Id'].apply(lambda x: f'{TRAIN_DIR}{x}.jpg')\n",
    "train_df['stratify_label'] = pd.qcut(train_df['Pawpularity'], q = Q, labels = range(Q))\n",
    "train_df['target_value'] = train_df['Pawpularity'] / 100."
   ]
  },
  {
   "cell_type": "markdown",
   "id": "08311388",
   "metadata": {
    "papermill": {
     "duration": 0.017568,
     "end_time": "2021-10-27T15:39:11.872762",
     "exception": false,
     "start_time": "2021-10-27T15:39:11.855194",
     "status": "completed"
    },
    "tags": []
   },
   "source": [
    "## Test data"
   ]
  },
  {
   "cell_type": "code",
   "execution_count": null,
   "id": "60d72139",
   "metadata": {
    "execution": {
     "iopub.execute_input": "2021-10-27T15:39:11.910814Z",
     "iopub.status.busy": "2021-10-27T15:39:11.910102Z",
     "iopub.status.idle": "2021-10-27T15:39:11.929113Z",
     "shell.execute_reply": "2021-10-27T15:39:11.929533Z",
     "shell.execute_reply.started": "2021-10-09T14:52:56.96195Z"
    },
    "papermill": {
     "duration": 0.040433,
     "end_time": "2021-10-27T15:39:11.929671",
     "exception": false,
     "start_time": "2021-10-27T15:39:11.889238",
     "status": "completed"
    },
    "tags": []
   },
   "outputs": [],
   "source": [
    "test_df = pd.read_csv(f'{DATA_DIR}test.csv')\n",
    "test_df['Id'] = test_df['Id'].apply(lambda x: f'{TEST_DIR}{x}.jpg')\n",
    "test_df['Pawpularity'] = 0"
   ]
  },
  {
   "cell_type": "markdown",
   "id": "d248077d",
   "metadata": {
    "papermill": {
     "duration": 0.017877,
     "end_time": "2021-10-27T15:39:11.965249",
     "exception": false,
     "start_time": "2021-10-27T15:39:11.947372",
     "status": "completed"
    },
    "tags": []
   },
   "source": [
    "## TF Dataset support code"
   ]
  },
  {
   "cell_type": "code",
   "execution_count": 6,
   "id": "aeefcd4b",
   "metadata": {
    "execution": {
     "iopub.execute_input": "2021-10-27T15:39:12.160644Z",
     "iopub.status.busy": "2021-10-27T15:39:12.159511Z",
     "iopub.status.idle": "2021-10-27T15:39:12.169609Z",
     "shell.execute_reply": "2021-10-27T15:39:12.168836Z",
     "shell.execute_reply.started": "2021-10-09T14:52:56.99234Z"
    },
    "papermill": {
     "duration": 0.186901,
     "end_time": "2021-10-27T15:39:12.169737",
     "exception": false,
     "start_time": "2021-10-27T15:39:11.982836",
     "status": "completed"
    },
    "tags": []
   },
   "outputs": [],
   "source": [
    "def build_augmenter(is_labelled):\n",
    "    def augment(img):\n",
    "        img = tf.image.random_flip_left_right(img)\n",
    "        img = tf.image.random_flip_up_down(img)\n",
    "        img = tf.image.random_saturation(img, 0.95, 1.05)\n",
    "        img = tf.image.random_brightness(img, 0.05)\n",
    "        img = tf.image.random_contrast(img, 0.95, 1.05)\n",
    "        img = tf.image.random_hue(img, 0.05)\n",
    "        return img\n",
    "    \n",
    "    def augment_with_labels(img, label):\n",
    "        return augment(img), label\n",
    "    \n",
    "    return augment_with_labels if is_labelled else augment\n",
    "\n",
    "def build_decoder(is_labelled):\n",
    "    def decode(path):\n",
    "        file_bytes = tf.io.read_file(path)\n",
    "        img = tf.image.decode_jpeg(file_bytes, channels = CHANNELS)\n",
    "        img = tf.cast(img, tf.float32) / 255.0\n",
    "        img = tf.image.resize(img, (IMG_SIZE, IMG_SIZE))\n",
    "        \n",
    "        return img\n",
    "    \n",
    "    def decode_with_labels(path, label):\n",
    "        return decode(path), label\n",
    "    \n",
    "    return decode_with_labels if is_labelled else decode\n",
    "\n",
    "def create_dataset(df, batch_size = 32, is_labelled = False, augment = False, repeat = False, shuffle = False):\n",
    "    decode_fn = build_decoder(is_labelled)\n",
    "    augmenter_fn = build_augmenter(is_labelled)\n",
    "    \n",
    "    if is_labelled:\n",
    "        dataset = tf.data.Dataset.from_tensor_slices((df['Id'].values, df['target_value'].values))\n",
    "    else:\n",
    "        dataset = tf.data.Dataset.from_tensor_slices((df['Id'].values))\n",
    "\n",
    "    dataset = dataset.map(decode_fn, num_parallel_calls = AUTOTUNE)\n",
    "    dataset = dataset.map(augmenter_fn, num_parallel_calls = AUTOTUNE) if augment else dataset\n",
    "    dataset = dataset.repeat() if repeat else dataset\n",
    "    dataset = dataset.shuffle(1024, reshuffle_each_iteration = True) if shuffle else dataset\n",
    "    dataset = dataset.batch(batch_size)\n",
    "    dataset = dataset.prefetch(AUTOTUNE)\n",
    "    \n",
    "    return dataset"
   ]
  },
  {
   "cell_type": "markdown",
   "id": "02d36135",
   "metadata": {
    "papermill": {
     "duration": 0.017676,
     "end_time": "2021-10-27T15:39:12.287664",
     "exception": false,
     "start_time": "2021-10-27T15:39:12.269988",
     "status": "completed"
    },
    "tags": []
   },
   "source": [
    "## EfficientNet Feature Model Training"
   ]
  },
  {
   "cell_type": "code",
   "execution_count": null,
   "id": "eae57c37",
   "metadata": {},
   "outputs": [],
   "source": [
    "def model_checkpoint(fold):\n",
    "    return tf.keras.callbacks.ModelCheckpoint(f'feature_model_{fold}.h5',\n",
    "                                              verbose = 1, \n",
    "                                              monitor = 'val_rmse', \n",
    "                                              mode = 'min', \n",
    "                                              save_weights_only = True,\n",
    "                                              save_best_only = True)\n",
    "\n",
    "def unfreeze_model(model):\n",
    "    for layer in model.layers:\n",
    "        if not isinstance(layer, tf.keras.layers.BatchNormalization):\n",
    "            layer.trainable = True\n",
    "        else:\n",
    "            layer.trainable = False\n",
    "\n",
    "def create_model(): \n",
    "    effnet_model = efn.EfficientNetB2(include_top = False, \n",
    "                                      classes = None, \n",
    "                                      input_shape = (IMG_SIZE, IMG_SIZE, CHANNELS), \n",
    "                                      weights = '../input/pawpularset/efficientnet-b2_noisy-student_notop.h5', \n",
    "                                      pooling = 'avg')\n",
    "\n",
    "    unfreeze_model(effnet_model)\n",
    "    \n",
    "    X = tf.keras.layers.Dropout(0.25)(effnet_model.output)\n",
    "    output = tf.keras.layers.Dense(1, activation = 'sigmoid')(X)\n",
    "    \n",
    "    model = tf.keras.Model(inputs = effnet_model.input, outputs = output)\n",
    "    model.compile(optimizer = tf.keras.optimizers.Adam(learning_rate = LR), \n",
    "                  loss = tf.keras.losses.BinaryCrossentropy(), \n",
    "                  metrics = [tf.keras.metrics.RootMeanSquaredError('rmse')])        \n",
    "    \n",
    "    return model"
   ]
  },
  {
   "cell_type": "code",
   "execution_count": 8,
   "id": "6dd7bf21",
   "metadata": {
    "_kg_hide-output": true,
    "execution": {
     "iopub.execute_input": "2021-10-27T15:39:12.367921Z",
     "iopub.status.busy": "2021-10-27T15:39:12.367002Z",
     "iopub.status.idle": "2021-10-27T15:39:12.368891Z",
     "shell.execute_reply": "2021-10-27T15:39:12.369384Z",
     "shell.execute_reply.started": "2021-10-09T14:52:57.026258Z"
    },
    "papermill": {
     "duration": 0.029144,
     "end_time": "2021-10-27T15:39:12.369530",
     "exception": false,
     "start_time": "2021-10-27T15:39:12.340386",
     "status": "completed"
    },
    "tags": []
   },
   "outputs": [],
   "source": [
    "if TRAIN_FEATURE_MODEL:\n",
    "    all_val_rmse = []\n",
    "    kfold = StratifiedKFold(n_splits = FEATURE_FOLDS, shuffle = True, random_state = SEED)\n",
    "    for fold, (train_index, val_index) in enumerate(kfold.split(train_df.index, train_df['stratify_label'])):\n",
    "        tf.keras.backend.clear_session()\n",
    "        gc.collect()\n",
    "\n",
    "        model = create_model()\n",
    "\n",
    "        trn = train_df.iloc[train_index]\n",
    "        val = train_df.iloc[val_index]\n",
    "        training_dataset = create_dataset(trn, batch_size = BATCH_SIZE, is_labelled = True, augment = True, repeat = True, shuffle = True)\n",
    "        validation_dataset = create_dataset(val, batch_size = BATCH_SIZE, is_labelled = True, augment = False, repeat = True, shuffle = False)\n",
    "\n",
    "        history = model.fit(training_dataset,\n",
    "                            epochs = EPOCHS,\n",
    "                            steps_per_epoch = trn.shape[0] // BATCH_SIZE,\n",
    "                            validation_steps = val.shape[0] // BATCH_SIZE,\n",
    "                            callbacks = [model_checkpoint(fold)],\n",
    "                            validation_data = validation_dataset,\n",
    "                            verbose = 1)   \n",
    "        best_val_rmse = min(history.history['val_rmse'])\n",
    "        all_val_rmse.append(best_val_rmse)"
   ]
  },
  {
   "cell_type": "markdown",
   "id": "1290f0de",
   "metadata": {
    "papermill": {
     "duration": 0.017648,
     "end_time": "2021-10-27T15:39:12.404540",
     "exception": false,
     "start_time": "2021-10-27T15:39:12.386892",
     "status": "completed"
    },
    "tags": []
   },
   "source": [
    "## CatBoost 6 Fold CV Training"
   ]
  },
  {
   "cell_type": "code",
   "execution_count": 9,
   "id": "441762b2",
   "metadata": {
    "execution": {
     "iopub.execute_input": "2021-10-27T15:39:12.480021Z",
     "iopub.status.busy": "2021-10-27T15:39:12.479179Z",
     "iopub.status.idle": "2021-10-27T15:39:12.481675Z",
     "shell.execute_reply": "2021-10-27T15:39:12.481215Z",
     "shell.execute_reply.started": "2021-10-09T14:52:57.044121Z"
    },
    "papermill": {
     "duration": 0.025217,
     "end_time": "2021-10-27T15:39:12.481795",
     "exception": false,
     "start_time": "2021-10-27T15:39:12.456578",
     "status": "completed"
    },
    "tags": []
   },
   "outputs": [],
   "source": [
    "preds_final = np.zeros((test_df.shape[0], 1))\n",
    "all_oof_score = []\n",
    "Y_strat = train_df['stratify_label'].values\n",
    "Y_pawpularity = train_df['Pawpularity'].values"
   ]
  },
  {
   "cell_type": "code",
   "execution_count": null,
   "id": "8fa658d1",
   "metadata": {
    "execution": {
     "iopub.execute_input": "2021-10-27T15:39:12.532610Z",
     "iopub.status.busy": "2021-10-27T15:39:12.530452Z",
     "iopub.status.idle": "2021-10-27T22:34:52.002377Z",
     "shell.execute_reply": "2021-10-27T22:34:52.001918Z",
     "shell.execute_reply.started": "2021-10-09T14:52:57.062006Z"
    },
    "papermill": {
     "duration": 24939.503232,
     "end_time": "2021-10-27T22:34:52.002538",
     "exception": false,
     "start_time": "2021-10-27T15:39:12.499306",
     "status": "completed"
    },
    "tags": []
   },
   "outputs": [],
   "source": [
    "for fold_index in range(FEATURE_FOLDS):\n",
    "\n",
    "    tf.keras.backend.clear_session()\n",
    "    gc.collect()\n",
    "    model = create_model()\n",
    "    model.load_weights(f'../input/pawpularset/feature_model_{fold_index}.h5')\n",
    "    model = tf.keras.Model(inputs = model.input, outputs = model.layers[-3].output)\n",
    "    \n",
    "    cb_train_set = create_dataset(train_df, batch_size = BATCH_SIZE, is_labelled = True, augment = False, repeat = False, shuffle = False)\n",
    "    cb_test_set = create_dataset(test_df, batch_size = BATCH_SIZE, is_labelled = False, augment = False, repeat = False, shuffle = False)\n",
    "    cb_train_features = model.predict(cb_train_set, verbose = VERBOSE)\n",
    "    cb_test_features = model.predict(cb_test_set, verbose = VERBOSE)\n",
    "    \n",
    "    oof_score = 0\n",
    "\n",
    "    kfold = StratifiedKFold(n_splits = FOLDS, shuffle = True, random_state = SEED)\n",
    "    for idx, (train, val) in enumerate(kfold.split(cb_train_features, Y_strat)):\n",
    "\n",
    "        train_x, train_y = cb_train_features[train], Y_pawpularity[train]\n",
    "        val_x, val_y = cb_train_features[val], Y_pawpularity[val]\n",
    "\n",
    "        cb_params = {'loss_function' : 'RMSE',\n",
    "                     'eval_metric' : 'RMSE',\n",
    "                     'iterations' : 1200,\n",
    "                     'grow_policy' : 'SymmetricTree',\n",
    "                     'depth' : 8,\n",
    "                     'l2_leaf_reg' : 2.0,\n",
    "                     'random_strength' : 1.0,\n",
    "                     'learning_rate' : 0.05,\n",
    "                     'task_type' : 'CPU',\n",
    "                     'devices' : '0',\n",
    "                     'verbose' : 0,\n",
    "                     'random_state': SEED}\n",
    "        \n",
    "        cb_model = CatBoostRegressor(**cb_params)\n",
    "        cb_model.fit(train_x, train_y, eval_set = [(val_x, val_y)], early_stopping_rounds = 100, verbose = 250)\n",
    "\n",
    "        y_pred = cb_model.predict(val_x)\n",
    "        preds_final += np.array([cb_model.predict(cb_test_features)]).T\n",
    "\n",
    "        oof_score += np.sqrt(mean_squared_error(val_y, y_pred))        \n",
    "\n",
    "        del cb_model, y_pred\n",
    "        del train_x, train_y\n",
    "        del val_x, val_y\n",
    "        gc.collect()   \n",
    "    \n",
    "    oof_score /= FOLDS\n",
    "    all_oof_score.append(oof_score)\n",
    "    \n",
    "    SEED += 1"
   ]
  },
  {
   "cell_type": "markdown",
   "id": "3822d72c",
   "metadata": {
    "papermill": {
     "duration": 1.674774,
     "end_time": "2021-10-27T22:34:59.001477",
     "exception": false,
     "start_time": "2021-10-27T22:34:57.326703",
     "status": "completed"
    },
    "tags": []
   },
   "source": [
    "## Create submission file"
   ]
  },
  {
   "cell_type": "code",
   "execution_count": 12,
   "id": "8f81a810",
   "metadata": {
    "execution": {
     "iopub.execute_input": "2021-10-27T22:35:02.399124Z",
     "iopub.status.busy": "2021-10-27T22:35:02.398555Z",
     "iopub.status.idle": "2021-10-27T22:35:02.415160Z",
     "shell.execute_reply": "2021-10-27T22:35:02.414703Z",
     "shell.execute_reply.started": "2021-10-09T14:59:17.146436Z"
    },
    "papermill": {
     "duration": 1.743818,
     "end_time": "2021-10-27T22:35:02.415278",
     "exception": false,
     "start_time": "2021-10-27T22:35:00.671460",
     "status": "completed"
    },
    "tags": []
   },
   "outputs": [],
   "source": [
    "preds_final /= (FOLDS*FEATURE_FOLDS)\n",
    "submission_df = pd.read_csv(f'{DATA_DIR}sample_submission.csv')\n",
    "submission_df['Pawpularity'] = preds_final.ravel()\n",
    "submission_df.to_csv('submission.csv', index = False)"
   ]
  }
 ],
 "metadata": {
  "kernelspec": {
   "display_name": "Python 3",
   "language": "python",
   "name": "python3"
  },
  "language_info": {
   "codemirror_mode": {
    "name": "ipython",
    "version": 3
   },
   "file_extension": ".py",
   "mimetype": "text/x-python",
   "name": "python",
   "nbconvert_exporter": "python",
   "pygments_lexer": "ipython3",
   "version": "3.7.10"
  },
  "papermill": {
   "default_parameters": {},
   "duration": 25025.69975,
   "end_time": "2021-10-27T22:35:07.186787",
   "environment_variables": {},
   "exception": null,
   "input_path": "__notebook__.ipynb",
   "output_path": "__notebook__.ipynb",
   "parameters": {},
   "start_time": "2021-10-27T15:38:01.487037",
   "version": "2.3.3"
  }
 },
 "nbformat": 4,
 "nbformat_minor": 5
}
