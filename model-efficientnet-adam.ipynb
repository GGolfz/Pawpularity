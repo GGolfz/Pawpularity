{
 "cells": [
  {
   "cell_type": "code",
   "execution_count": null,
   "id": "c17bb8bf",
   "metadata": {
    "execution": {
     "iopub.execute_input": "2021-10-11T15:53:29.548694Z",
     "iopub.status.busy": "2021-10-11T15:53:29.547261Z",
     "iopub.status.idle": "2021-10-11T15:53:36.488172Z",
     "shell.execute_reply": "2021-10-11T15:53:36.487558Z",
     "shell.execute_reply.started": "2021-10-11T15:36:39.529519Z"
    },
    "papermill": {
     "duration": 6.956025,
     "end_time": "2021-10-11T15:53:36.488338",
     "exception": false,
     "start_time": "2021-10-11T15:53:29.532313",
     "status": "completed"
    },
    "tags": []
   },
   "outputs": [],
   "source": [
    "import os\n",
    "import random\n",
    "\n",
    "import numpy as np\n",
    "import pandas as pd\n",
    "import lightgbm as lgb\n",
    "import tensorflow as tf\n",
    "from tensorflow.keras import Sequential,Model\n",
    "from tensorflow.keras.layers import Dense,Conv2D,Flatten,Dropout, Input, Concatenate, BatchNormalization\n",
    "from tensorflow.keras.callbacks import EarlyStopping,ReduceLROnPlateau\n",
    "from tensorflow.keras.optimizers.schedules import ExponentialDecay\n",
    "from PIL import Image\n",
    "from sklearn.model_selection import train_test_split\n",
    "import matplotlib.pyplot as plt"
   ]
  },
  {
   "cell_type": "code",
   "execution_count": 2,
   "id": "20db19cf",
   "metadata": {
    "execution": {
     "iopub.execute_input": "2021-10-11T15:53:36.512607Z",
     "iopub.status.busy": "2021-10-11T15:53:36.511760Z",
     "iopub.status.idle": "2021-10-11T15:53:36.517670Z",
     "shell.execute_reply": "2021-10-11T15:53:36.518141Z",
     "shell.execute_reply.started": "2021-10-11T15:36:40.806056Z"
    },
    "papermill": {
     "duration": 0.019301,
     "end_time": "2021-10-11T15:53:36.518265",
     "exception": false,
     "start_time": "2021-10-11T15:53:36.498964",
     "status": "completed"
    },
    "tags": []
   },
   "outputs": [],
   "source": [
    "AUTOTUNE = tf.data.experimental.AUTOTUNE  \n",
    "img_size = 224\n",
    "channels = 3\n",
    "Batch_size = 64\n",
    "\n",
    "train_dir = \"/kaggle/input/petfinder-pawpularity-score/train/\"\n",
    "test_dir = \"/kaggle/input/petfinder-pawpularity-score/test/\"\n",
    "\n",
    "def seed_everything():\n",
    "    np.random.seed(123)\n",
    "    random.seed(123)\n",
    "    tf.random.set_seed(123)\n",
    "    os.environ[\"TF_CPP_MIN_LOG_LEVEL\"] = '2'\n",
    "    os.environ['PYTHONHASHSEED'] = str(123)\n",
    "\n",
    "seed_everything()"
   ]
  },
  {
   "cell_type": "markdown",
   "id": "a99e34ea",
   "metadata": {
    "papermill": {
     "duration": 0.009621,
     "end_time": "2021-10-11T15:53:36.538011",
     "exception": false,
     "start_time": "2021-10-11T15:53:36.528390",
     "status": "completed"
    },
    "tags": []
   },
   "source": [
    "## Preprocessing"
   ]
  },
  {
   "cell_type": "code",
   "execution_count": 3,
   "id": "40fd1594",
   "metadata": {
    "execution": {
     "iopub.execute_input": "2021-10-11T15:53:36.564781Z",
     "iopub.status.busy": "2021-10-11T15:53:36.564245Z",
     "iopub.status.idle": "2021-10-11T15:53:36.614990Z",
     "shell.execute_reply": "2021-10-11T15:53:36.614476Z",
     "shell.execute_reply.started": "2021-10-11T15:36:42.471819Z"
    },
    "papermill": {
     "duration": 0.06687,
     "end_time": "2021-10-11T15:53:36.615140",
     "exception": false,
     "start_time": "2021-10-11T15:53:36.548270",
     "status": "completed"
    },
    "tags": []
   },
   "outputs": [],
   "source": [
    "df = pd.read_csv(\"/kaggle/input/petfinder-pawpularity-score/train.csv\")\n",
    "df_test = pd.read_csv(\"/kaggle/input/petfinder-pawpularity-score/test.csv\")\n",
    "Id = df_test[\"Id\"].copy()\n",
    "\n",
    "df[\"Id\"] = df[\"Id\"].apply(lambda x : \"/kaggle/input/petfinder-pawpularity-score/train/\" + x + \".jpg\")\n",
    "df_test[\"Id\"] = df_test[\"Id\"].apply(lambda x : \"/kaggle/input/petfinder-pawpularity-score/test/\" + x + \".jpg\")"
   ]
  },
  {
   "cell_type": "code",
   "execution_count": 4,
   "id": "16826500",
   "metadata": {
    "execution": {
     "iopub.execute_input": "2021-10-11T15:53:36.646981Z",
     "iopub.status.busy": "2021-10-11T15:53:36.646114Z",
     "iopub.status.idle": "2021-10-11T15:53:36.648637Z",
     "shell.execute_reply": "2021-10-11T15:53:36.648235Z",
     "shell.execute_reply.started": "2021-10-11T15:36:57.265197Z"
    },
    "papermill": {
     "duration": 0.023245,
     "end_time": "2021-10-11T15:53:36.648748",
     "exception": false,
     "start_time": "2021-10-11T15:53:36.625503",
     "status": "completed"
    },
    "tags": []
   },
   "outputs": [],
   "source": [
    "def image_preprocess(is_labelled):  \n",
    "    def augment(image):\n",
    "        image = tf.image.random_flip_left_right(image)\n",
    "        image = tf.image.random_saturation(image, 0.95, 1.05)\n",
    "        image = tf.image.random_contrast(image, 0.95, 1.05)\n",
    "        return image\n",
    "    \n",
    "    def can_be_augmented(img, label):\n",
    "        return augment(img), label\n",
    "\n",
    "    return can_be_augmented if is_labelled else augment\n",
    "\n",
    "\n",
    "\n",
    "# Reading and rescaling images\n",
    "def image_read(is_labelled):\n",
    "    def decode(path):\n",
    "        image = tf.io.read_file(path)\n",
    "        image = tf.image.decode_jpeg(image, channels=channels)\n",
    "        image = tf.cast(image, tf.float32)\n",
    "        image = tf.image.resize(image, (img_size, img_size))\n",
    "        image = tf.keras.applications.efficientnet.preprocess_input(image) \n",
    "        return image\n",
    "    \n",
    "    def can_be_decoded(path, label):\n",
    "        return decode(path), label\n",
    "\n",
    "    return can_be_decoded if is_labelled else decode\n",
    "\n",
    "def create_dataset(df, batch_size, is_labelled = False, augment = False, shuffle = False):\n",
    "    image_read_fn = image_read(is_labelled)\n",
    "    image_preprocess_fn = image_preprocess(is_labelled)\n",
    "    \n",
    "    if is_labelled:\n",
    "        dataset = tf.data.Dataset.from_tensor_slices((df[\"Id\"].values, df[\"Pawpularity\"].values))\n",
    "    else:\n",
    "        dataset = tf.data.Dataset.from_tensor_slices((df[\"Id\"].values))\n",
    "    \n",
    "    dataset = dataset.map(image_read_fn, num_parallel_calls=AUTOTUNE)\n",
    "    dataset = dataset.map(image_preprocess_fn, num_parallel_calls=AUTOTUNE) if augment else dataset\n",
    "    dataset = dataset.shuffle(1024, reshuffle_each_iteration=True) if shuffle else dataset\n",
    "    dataset = dataset.batch(batch_size)\n",
    "    dataset = dataset.prefetch(AUTOTUNE)\n",
    "    return dataset"
   ]
  },
  {
   "cell_type": "code",
   "execution_count": null,
   "id": "bdc18f69",
   "metadata": {
    "execution": {
     "iopub.execute_input": "2021-10-11T15:53:36.670650Z",
     "iopub.status.busy": "2021-10-11T15:53:36.669842Z",
     "iopub.status.idle": "2021-10-11T15:53:38.714263Z",
     "shell.execute_reply": "2021-10-11T15:53:38.713781Z",
     "shell.execute_reply.started": "2021-10-11T15:37:00.776941Z"
    },
    "papermill": {
     "duration": 2.056154,
     "end_time": "2021-10-11T15:53:38.714393",
     "exception": false,
     "start_time": "2021-10-11T15:53:36.658239",
     "status": "completed"
    },
    "tags": []
   },
   "outputs": [],
   "source": [
    "trn = df.iloc[:9000]\n",
    "val = df.iloc[9001:]\n",
    "\n",
    "train = create_dataset(trn, Batch_size, is_labelled = True, augment = True, shuffle = True)\n",
    "validation = create_dataset(val, Batch_size, is_labelled = True, augment = False, shuffle = False)\n",
    "test = create_dataset(df_test, Batch_size, is_labelled = False, augment = False, shuffle=False)"
   ]
  },
  {
   "cell_type": "markdown",
   "id": "b00afa91",
   "metadata": {
    "papermill": {
     "duration": 0.010065,
     "end_time": "2021-10-11T15:53:38.734921",
     "exception": false,
     "start_time": "2021-10-11T15:53:38.724856",
     "status": "completed"
    },
    "tags": []
   },
   "source": [
    "\n",
    "## CNN for Images"
   ]
  },
  {
   "cell_type": "code",
   "execution_count": 6,
   "id": "12a3257a",
   "metadata": {
    "execution": {
     "iopub.execute_input": "2021-10-11T15:53:38.760658Z",
     "iopub.status.busy": "2021-10-11T15:53:38.759978Z",
     "iopub.status.idle": "2021-10-11T15:53:41.147109Z",
     "shell.execute_reply": "2021-10-11T15:53:41.146468Z",
     "shell.execute_reply.started": "2021-10-11T15:37:03.956788Z"
    },
    "papermill": {
     "duration": 2.402325,
     "end_time": "2021-10-11T15:53:41.147242",
     "exception": false,
     "start_time": "2021-10-11T15:53:38.744917",
     "status": "completed"
    },
    "tags": []
   },
   "outputs": [],
   "source": [
    "img_mod = \"/kaggle/input/keras-applications-models/EfficientNetB0.h5\"\n",
    "efnet = tf.keras.models.load_model(img_mod)\n",
    "efnet.trainable = False"
   ]
  },
  {
   "cell_type": "code",
   "execution_count": 7,
   "id": "cedf3623",
   "metadata": {
    "execution": {
     "iopub.execute_input": "2021-10-11T15:53:41.178911Z",
     "iopub.status.busy": "2021-10-11T15:53:41.178111Z",
     "iopub.status.idle": "2021-10-11T15:53:41.776686Z",
     "shell.execute_reply": "2021-10-11T15:53:41.775746Z",
     "shell.execute_reply.started": "2021-10-11T15:37:14.192881Z"
    },
    "papermill": {
     "duration": 0.618448,
     "end_time": "2021-10-11T15:53:41.776829",
     "exception": false,
     "start_time": "2021-10-11T15:53:41.158381",
     "status": "completed"
    },
    "tags": []
   },
   "outputs": [],
   "source": [
    "model = Sequential([\n",
    "    Input(shape=(img_size, img_size, channels)),\n",
    "    efnet,\n",
    "    BatchNormalization(),\n",
    "    Dense(units = 64, activation=\"relu\"),\n",
    "    Dense(units = 1, activation=\"relu\")\n",
    "])"
   ]
  },
  {
   "cell_type": "code",
   "execution_count": 8,
   "id": "148fd7f8",
   "metadata": {
    "execution": {
     "iopub.execute_input": "2021-10-11T15:53:41.805314Z",
     "iopub.status.busy": "2021-10-11T15:53:41.803696Z",
     "iopub.status.idle": "2021-10-11T15:53:41.805922Z",
     "shell.execute_reply": "2021-10-11T15:53:41.806374Z",
     "shell.execute_reply.started": "2021-10-11T15:37:17.296887Z"
    },
    "papermill": {
     "duration": 0.017928,
     "end_time": "2021-10-11T15:53:41.806509",
     "exception": false,
     "start_time": "2021-10-11T15:53:41.788581",
     "status": "completed"
    },
    "tags": []
   },
   "outputs": [],
   "source": [
    "early_stopping = EarlyStopping(patience = 5,restore_best_weights=True)\n",
    "\n",
    "\n",
    "lr_schedule = ExponentialDecay(\n",
    "    initial_learning_rate=1e-3,\n",
    "    decay_steps=100, decay_rate=0.96,\n",
    "    staircase=True)"
   ]
  },
  {
   "cell_type": "code",
   "execution_count": null,
   "id": "59e34765",
   "metadata": {
    "execution": {
     "iopub.execute_input": "2021-10-11T15:53:41.836677Z",
     "iopub.status.busy": "2021-10-11T15:53:41.835858Z",
     "iopub.status.idle": "2021-10-11T16:07:25.792970Z",
     "shell.execute_reply": "2021-10-11T16:07:25.792436Z",
     "shell.execute_reply.started": "2021-10-11T15:39:33.518864Z"
    },
    "papermill": {
     "duration": 823.976755,
     "end_time": "2021-10-11T16:07:25.793137",
     "exception": false,
     "start_time": "2021-10-11T15:53:41.816382",
     "status": "completed"
    },
    "tags": []
   },
   "outputs": [],
   "source": [
    "model.compile(loss=\"mse\", \n",
    "              optimizer = tf.keras.optimizers.Adam(learning_rate = lr_schedule), \n",
    "              metrics=[tf.keras.metrics.RootMeanSquaredError()])\n",
    "\n",
    "predictor = model.fit(train,\n",
    "                      epochs=20, \n",
    "                      validation_data = validation,\n",
    "                      callbacks=[early_stopping])"
   ]
  },
  {
   "cell_type": "markdown",
   "id": "2950db86",
   "metadata": {
    "papermill": {
     "duration": 0.502892,
     "end_time": "2021-10-11T16:07:26.795302",
     "exception": false,
     "start_time": "2021-10-11T16:07:26.292410",
     "status": "completed"
    },
    "tags": []
   },
   "source": [
    "## Prediction"
   ]
  },
  {
   "cell_type": "code",
   "execution_count": 10,
   "id": "c70dd63e",
   "metadata": {
    "execution": {
     "iopub.execute_input": "2021-10-11T16:07:28.240994Z",
     "iopub.status.busy": "2021-10-11T16:07:28.239532Z",
     "iopub.status.idle": "2021-10-11T16:07:29.823804Z",
     "shell.execute_reply": "2021-10-11T16:07:29.825037Z",
     "shell.execute_reply.started": "2021-10-11T06:15:30.503268Z"
    },
    "papermill": {
     "duration": 2.334629,
     "end_time": "2021-10-11T16:07:29.825321",
     "exception": false,
     "start_time": "2021-10-11T16:07:27.490692",
     "status": "completed"
    },
    "tags": []
   },
   "outputs": [],
   "source": [
    "pred = model.predict(test)\n",
    "\n",
    "final=pd.DataFrame()\n",
    "final['Id']=Id\n",
    "final['Pawpularity']=pred\n",
    "final.to_csv('submission.csv',index=False)"
   ]
  }
 ],
 "metadata": {
  "kernelspec": {
   "display_name": "Python 3",
   "language": "python",
   "name": "python3"
  },
  "language_info": {
   "codemirror_mode": {
    "name": "ipython",
    "version": 3
   },
   "file_extension": ".py",
   "mimetype": "text/x-python",
   "name": "python",
   "nbconvert_exporter": "python",
   "pygments_lexer": "ipython3",
   "version": "3.7.10"
  },
  "papermill": {
   "default_parameters": {},
   "duration": 851.053291,
   "end_time": "2021-10-11T16:07:34.007658",
   "environment_variables": {},
   "exception": null,
   "input_path": "__notebook__.ipynb",
   "output_path": "__notebook__.ipynb",
   "parameters": {},
   "start_time": "2021-10-11T15:53:22.954367",
   "version": "2.3.3"
  }
 },
 "nbformat": 4,
 "nbformat_minor": 5
}
